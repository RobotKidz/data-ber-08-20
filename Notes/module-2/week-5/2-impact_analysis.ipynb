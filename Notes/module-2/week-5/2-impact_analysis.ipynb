{
 "cells": [
  {
   "cell_type": "code",
   "execution_count": 1,
   "metadata": {},
   "outputs": [],
   "source": [
    "import pandas as pd\n",
    "import numpy as np\n",
    "import matplotlib\n",
    "import matplotlib.pyplot as plt\n",
    "import seaborn as sns\n",
    "import pymysql\n",
    "import getpass\n",
    "import statsmodels.api as sm\n",
    "\n",
    "sns.set_style(\"white\")"
   ]
  },
  {
   "cell_type": "code",
   "execution_count": 2,
   "metadata": {},
   "outputs": [
    {
     "name": "stdout",
     "output_type": "stream",
     "text": [
      "········\n"
     ]
    }
   ],
   "source": [
    "conn = pymysql.connect(host=\"localhost\",\n",
    "                       port=3306,\n",
    "                       user=\"root\",\n",
    "                       passwd=getpass.getpass(),\n",
    "                       db=\"olist\")"
   ]
  },
  {
   "cell_type": "markdown",
   "metadata": {},
   "source": [
    "OLIST rand a Black Friday campaign on Nov. 24th 2017\n",
    "\n",
    "The analytics team is tasked to evaluated its success!"
   ]
  },
  {
   "cell_type": "markdown",
   "metadata": {},
   "source": [
    "## Get weekly revenue data\n",
    "| week_id | revenue |\n",
    "|---------|---------|\n",
    "| 2017-01-01| 234098|\n",
    "|2017-01-08 | 3948209| \n",
    "\n",
    "timeframe: from beginning of 2017 until september 2018\n",
    "- only want full weeks \n",
    "\n",
    "DATE_SUB (how you can subtract dates)\n",
    "\n",
    "DAYOFWEEK"
   ]
  },
  {
   "cell_type": "code",
   "execution_count": 21,
   "metadata": {},
   "outputs": [],
   "source": [
    "revenue_query = \"\"\"\n",
    "SELECT \n",
    "    DATE_SUB(DATE(o.order_purchase_timestamp), \n",
    "            INTERVAL DAYOFWEEK(DATE(o.order_purchase_timestamp)) - 1 DAY) AS week_id,\n",
    "    SUM(oi.price)                                                         AS revenue\n",
    "FROM orders o\n",
    "    JOIN order_items oi\n",
    "    ON o.order_id = oi.order_id\n",
    "WHERE DATE(o.order_purchase_timestamp) > '2017-01-02'\n",
    "    AND DATE(o.order_purchase_timestamp) < '2018-09-03'\n",
    "    AND o.order_status = 'delivered'\n",
    "GROUP BY week_id\n",
    "ORDER BY week_id\n",
    "\"\"\""
   ]
  },
  {
   "cell_type": "code",
   "execution_count": 22,
   "metadata": {},
   "outputs": [],
   "source": [
    "revenue = pd.read_sql(revenue_query, conn)"
   ]
  },
  {
   "cell_type": "code",
   "execution_count": 11,
   "metadata": {},
   "outputs": [
    {
     "data": {
      "text/html": [
       "<div>\n",
       "<style scoped>\n",
       "    .dataframe tbody tr th:only-of-type {\n",
       "        vertical-align: middle;\n",
       "    }\n",
       "\n",
       "    .dataframe tbody tr th {\n",
       "        vertical-align: top;\n",
       "    }\n",
       "\n",
       "    .dataframe thead th {\n",
       "        text-align: right;\n",
       "    }\n",
       "</style>\n",
       "<table border=\"1\" class=\"dataframe\">\n",
       "  <thead>\n",
       "    <tr style=\"text-align: right;\">\n",
       "      <th></th>\n",
       "      <th>week_id</th>\n",
       "      <th>revenue</th>\n",
       "    </tr>\n",
       "  </thead>\n",
       "  <tbody>\n",
       "    <tr>\n",
       "      <th>0</th>\n",
       "      <td>2017-01-01</td>\n",
       "      <td>2665.180000</td>\n",
       "    </tr>\n",
       "    <tr>\n",
       "      <th>1</th>\n",
       "      <td>2017-01-08</td>\n",
       "      <td>9165.069994</td>\n",
       "    </tr>\n",
       "    <tr>\n",
       "      <th>2</th>\n",
       "      <td>2017-01-15</td>\n",
       "      <td>21951.900026</td>\n",
       "    </tr>\n",
       "    <tr>\n",
       "      <th>3</th>\n",
       "      <td>2017-01-22</td>\n",
       "      <td>50239.989901</td>\n",
       "    </tr>\n",
       "    <tr>\n",
       "      <th>4</th>\n",
       "      <td>2017-01-29</td>\n",
       "      <td>66531.949844</td>\n",
       "    </tr>\n",
       "  </tbody>\n",
       "</table>\n",
       "</div>"
      ],
      "text/plain": [
       "      week_id       revenue\n",
       "0  2017-01-01   2665.180000\n",
       "1  2017-01-08   9165.069994\n",
       "2  2017-01-15  21951.900026\n",
       "3  2017-01-22  50239.989901\n",
       "4  2017-01-29  66531.949844"
      ]
     },
     "execution_count": 11,
     "metadata": {},
     "output_type": "execute_result"
    }
   ],
   "source": [
    "revenue.head()"
   ]
  },
  {
   "cell_type": "code",
   "execution_count": 12,
   "metadata": {},
   "outputs": [
    {
     "data": {
      "text/plain": [
       "week_id     object\n",
       "revenue    float64\n",
       "dtype: object"
      ]
     },
     "execution_count": 12,
     "metadata": {},
     "output_type": "execute_result"
    }
   ],
   "source": [
    "revenue.dtypes"
   ]
  },
  {
   "cell_type": "code",
   "execution_count": 14,
   "metadata": {},
   "outputs": [],
   "source": [
    "revenue[\"week_id\"] = pd.to_datetime(revenue[\"week_id\"])"
   ]
  },
  {
   "cell_type": "markdown",
   "metadata": {},
   "source": [
    "## Approach 1:\n",
    "Compare the week of Black Friday to time period before"
   ]
  },
  {
   "cell_type": "code",
   "execution_count": 23,
   "metadata": {},
   "outputs": [],
   "source": [
    "week = revenue.copy()"
   ]
  },
  {
   "cell_type": "code",
   "execution_count": 26,
   "metadata": {},
   "outputs": [],
   "source": [
    "week = week.loc[week[\"week_id\"].between(pd.to_datetime(\"2017-11-12\"), pd.to_datetime(\"2017-11-19\"))]"
   ]
  },
  {
   "cell_type": "code",
   "execution_count": 27,
   "metadata": {},
   "outputs": [
    {
     "data": {
      "text/html": [
       "<div>\n",
       "<style scoped>\n",
       "    .dataframe tbody tr th:only-of-type {\n",
       "        vertical-align: middle;\n",
       "    }\n",
       "\n",
       "    .dataframe tbody tr th {\n",
       "        vertical-align: top;\n",
       "    }\n",
       "\n",
       "    .dataframe thead th {\n",
       "        text-align: right;\n",
       "    }\n",
       "</style>\n",
       "<table border=\"1\" class=\"dataframe\">\n",
       "  <thead>\n",
       "    <tr style=\"text-align: right;\">\n",
       "      <th></th>\n",
       "      <th>week_id</th>\n",
       "      <th>revenue</th>\n",
       "    </tr>\n",
       "  </thead>\n",
       "  <tbody>\n",
       "    <tr>\n",
       "      <th>45</th>\n",
       "      <td>2017-11-12</td>\n",
       "      <td>174613.250068</td>\n",
       "    </tr>\n",
       "    <tr>\n",
       "      <th>46</th>\n",
       "      <td>2017-11-19</td>\n",
       "      <td>371858.770386</td>\n",
       "    </tr>\n",
       "  </tbody>\n",
       "</table>\n",
       "</div>"
      ],
      "text/plain": [
       "       week_id        revenue\n",
       "45  2017-11-12  174613.250068\n",
       "46  2017-11-19  371858.770386"
      ]
     },
     "execution_count": 27,
     "metadata": {},
     "output_type": "execute_result"
    }
   ],
   "source": [
    "week"
   ]
  },
  {
   "cell_type": "code",
   "execution_count": 35,
   "metadata": {},
   "outputs": [
    {
     "data": {
      "text/plain": [
       "174613.2500681877"
      ]
     },
     "execution_count": 35,
     "metadata": {},
     "output_type": "execute_result"
    }
   ],
   "source": [
    "week.loc[week[\"week_id\"] == pd.to_datetime(\"2017-11-12\"), \"revenue\"].values[0]\n",
    "#test without values, doesn't work\n",
    "#week.loc[week[\"week_id\"] == pd.to_datetime(\"2017-11-12\"), \"revenue\"][0]"
   ]
  },
  {
   "cell_type": "code",
   "execution_count": 37,
   "metadata": {},
   "outputs": [
    {
     "data": {
      "image/png": "[encoded data removed]",
      "text/plain": [
       "<Figure size 432x288 with 1 Axes>"
      ]
     },
     "metadata": {},
     "output_type": "display_data"
    }
   ],
   "source": [
    "ax = sns.barplot(data=week, \n",
    "            x=\"week_id\",\n",
    "            y=\"revenue\");\n",
    "ax.axhline(week.loc[week[\"week_id\"] == pd.to_datetime(\"2017-11-12\"), \"revenue\"].values[0], color=\"r\");"
   ]
  },
  {
   "cell_type": "markdown",
   "metadata": {},
   "source": [
    "Calculate the difference"
   ]
  },
  {
   "cell_type": "code",
   "execution_count": 40,
   "metadata": {},
   "outputs": [],
   "source": [
    "prev_week = week.loc[week[\"week_id\"] == pd.to_datetime(\"2017-11-12\"), \"revenue\"].values[0]\n",
    "bf_week = week.loc[week[\"week_id\"] == pd.to_datetime(\"2017-11-19\"), \"revenue\"].values[0]"
   ]
  },
  {
   "cell_type": "code",
   "execution_count": 42,
   "metadata": {},
   "outputs": [],
   "source": [
    "abs_diff = bf_week - prev_week\n",
    "rel_diff = (bf_week / prev_week) - 1"
   ]
  },
  {
   "cell_type": "code",
   "execution_count": 45,
   "metadata": {},
   "outputs": [
    {
     "data": {
      "text/plain": [
       "1.1296137048076567"
      ]
     },
     "execution_count": 45,
     "metadata": {},
     "output_type": "execute_result"
    }
   ],
   "source": [
    "#(bf_week / prev_week) - 1"
   ]
  },
  {
   "cell_type": "code",
   "execution_count": 43,
   "metadata": {},
   "outputs": [
    {
     "name": "stdout",
     "output_type": "stream",
     "text": [
      "The revenue for the week including Black Friday increased by 112.96% compared to the\n",
      "week prior. Assuming the Black Friday promotion accounts for the entire difference, we were able to increase our \n",
      "revnue by 197245.52\n"
     ]
    }
   ],
   "source": [
    "print(f\"\"\"The revenue for the week including Black Friday increased by {round(rel_diff*100, 2)}% compared to the\n",
    "week prior. Assuming the Black Friday promotion accounts for the entire difference, we were able to increase our \n",
    "revnue by {round(abs_diff, 2)}\"\"\")"
   ]
  },
  {
   "cell_type": "markdown",
   "metadata": {},
   "source": [
    "Look at time series"
   ]
  },
  {
   "cell_type": "code",
   "execution_count": 51,
   "metadata": {},
   "outputs": [
    {
     "data": {
      "image/png": "[encoded data removed]",
      "text/plain": [
       "<Figure size 864x576 with 1 Axes>"
      ]
     },
     "metadata": {},
     "output_type": "display_data"
    }
   ],
   "source": [
    "fig, ax = plt.subplots(figsize=(12,8))\n",
    "\n",
    "sns.lineplot(data=revenue, \n",
    "             x=\"week_id\", \n",
    "             y=\"revenue\", \n",
    "             ax=ax);\n",
    "\n",
    "#removing data we don't need\n",
    "ax.set_xlim((pd.to_datetime(\"2017-03-01\")), pd.to_datetime(\"2018-03-01\"));\n",
    "ax.axvline(pd.to_datetime(\"2017-11-19\"), color=\"r\");\n",
    "\n",
    "ax.axvline(pd.to_datetime(\"2017-10-15\"), color=\"grey\");\n",
    "ax.axvline(pd.to_datetime(\"2017-12-31\"), color=\"grey\");"
   ]
  },
  {
   "cell_type": "markdown",
   "metadata": {},
   "source": [
    "The graph suggests that revenue decreased in some time periods immediatly before and after the week of Black Friday, which indicated consumers may have changed their purchasing behavior. That is, some consumers may have postponed or preponed a purchase to save money. We can also see that revnue has probalby increase throughout the year of 2017."
   ]
  },
  {
   "cell_type": "markdown",
   "metadata": {},
   "source": [
    "We can 'bake in' these additional assumptions through considering a time range instead of just the week affected (change in behavior) and through estimating a trend line (trend). "
   ]
  },
  {
   "cell_type": "markdown",
   "metadata": {},
   "source": [
    "## Approach 2:\n",
    "Establish baseline considering overall trend and change in behavior"
   ]
  },
  {
   "cell_type": "code",
   "execution_count": null,
   "metadata": {},
   "outputs": [],
   "source": []
  }
 ],
 "metadata": {
  "kernelspec": {
   "display_name": "Python 3",
   "language": "python",
   "name": "python3"
  },
  "language_info": {
   "codemirror_mode": {
    "name": "ipython",
    "version": 3
   },
   "file_extension": ".py",
   "mimetype": "text/x-python",
   "name": "python",
   "nbconvert_exporter": "python",
   "pygments_lexer": "ipython3",
   "version": "3.8.5"
  }
 },
 "nbformat": 4,
 "nbformat_minor": 4
}
