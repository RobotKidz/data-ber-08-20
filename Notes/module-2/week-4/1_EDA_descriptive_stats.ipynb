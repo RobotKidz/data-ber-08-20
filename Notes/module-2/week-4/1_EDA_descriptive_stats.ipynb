{
 "cells": [
  {
   "cell_type": "code",
   "execution_count": 1,
   "metadata": {},
   "outputs": [],
   "source": [
    "import pandas as pd\n",
    "import numpy as np\n",
    "import pymysql\n",
    "import getpass\n",
    "import matplotlib\n",
    "import matplotlib.pyplot as plt\n",
    "%matplotlib inline"
   ]
  },
  {
   "cell_type": "code",
   "execution_count": 2,
   "metadata": {},
   "outputs": [
    {
     "name": "stdout",
     "output_type": "stream",
     "text": [
      "········\n"
     ]
    }
   ],
   "source": [
    "#could use a module for this \n",
    "conn = pymysql.connect(host=\"localhost\",\n",
    "                       port=3306,\n",
    "                       user=\"root\",\n",
    "                       passwd=getpass.getpass(),\n",
    "                       db=\"olist\")"
   ]
  },
  {
   "cell_type": "markdown",
   "metadata": {},
   "source": [
    "# Sellers - After or equal to 2017-01-01\n",
    "Definition: *A user that has sold a product in a given timeframe*"
   ]
  },
  {
   "cell_type": "code",
   "execution_count": 3,
   "metadata": {},
   "outputs": [],
   "source": [
    "seller_query = \"\"\"\n",
    "SELECT DISTINCT\n",
    "    oi.seller_id\n",
    "FROM order_items oi\n",
    "    INNER JOIN orders o\n",
    "    ON oi.order_id = o.order_id\n",
    "WHERE o.order_purchase_timestamp >= '2017-01-01'\n",
    "\"\"\""
   ]
  },
  {
   "cell_type": "code",
   "execution_count": 4,
   "metadata": {},
   "outputs": [],
   "source": [
    "sellers = pd.read_sql(seller_query, conn)"
   ]
  },
  {
   "cell_type": "code",
   "execution_count": 5,
   "metadata": {},
   "outputs": [
    {
     "data": {
      "text/html": [
       "<div>\n",
       "<style scoped>\n",
       "    .dataframe tbody tr th:only-of-type {\n",
       "        vertical-align: middle;\n",
       "    }\n",
       "\n",
       "    .dataframe tbody tr th {\n",
       "        vertical-align: top;\n",
       "    }\n",
       "\n",
       "    .dataframe thead th {\n",
       "        text-align: right;\n",
       "    }\n",
       "</style>\n",
       "<table border=\"1\" class=\"dataframe\">\n",
       "  <thead>\n",
       "    <tr style=\"text-align: right;\">\n",
       "      <th></th>\n",
       "      <th>seller_id</th>\n",
       "    </tr>\n",
       "  </thead>\n",
       "  <tbody>\n",
       "    <tr>\n",
       "      <th>0</th>\n",
       "      <td>3504c0cb71d7fa48d967e0e4c94d59d9</td>\n",
       "    </tr>\n",
       "    <tr>\n",
       "      <th>1</th>\n",
       "      <td>289cdb325fb7e7f891c38608bf9e0962</td>\n",
       "    </tr>\n",
       "    <tr>\n",
       "      <th>2</th>\n",
       "      <td>4869f7a5dfa277a7dca6462dcf3b52b2</td>\n",
       "    </tr>\n",
       "    <tr>\n",
       "      <th>3</th>\n",
       "      <td>66922902710d126a0e7d26b0e3805106</td>\n",
       "    </tr>\n",
       "    <tr>\n",
       "      <th>4</th>\n",
       "      <td>2c9e548be18521d1c43cde1c582c6de8</td>\n",
       "    </tr>\n",
       "  </tbody>\n",
       "</table>\n",
       "</div>"
      ],
      "text/plain": [
       "                          seller_id\n",
       "0  3504c0cb71d7fa48d967e0e4c94d59d9\n",
       "1  289cdb325fb7e7f891c38608bf9e0962\n",
       "2  4869f7a5dfa277a7dca6462dcf3b52b2\n",
       "3  66922902710d126a0e7d26b0e3805106\n",
       "4  2c9e548be18521d1c43cde1c582c6de8"
      ]
     },
     "execution_count": 5,
     "metadata": {},
     "output_type": "execute_result"
    }
   ],
   "source": [
    "sellers.head()"
   ]
  },
  {
   "cell_type": "code",
   "execution_count": 6,
   "metadata": {},
   "outputs": [
    {
     "data": {
      "text/plain": [
       "(3068, 1)"
      ]
     },
     "execution_count": 6,
     "metadata": {},
     "output_type": "execute_result"
    }
   ],
   "source": [
    "sellers.shape"
   ]
  },
  {
   "cell_type": "markdown",
   "metadata": {},
   "source": [
    "We have had a total of 3068 unique sellers after Jan 1st 2017. "
   ]
  },
  {
   "cell_type": "markdown",
   "metadata": {},
   "source": [
    "# 2. How much do they sell?"
   ]
  },
  {
   "cell_type": "code",
   "execution_count": 7,
   "metadata": {},
   "outputs": [],
   "source": [
    "seller_qt = \"\"\"\n",
    "SELECT \n",
    "    oi.seller_id,\n",
    "    COUNT(*)     AS items_sold\n",
    "FROM order_items oi\n",
    "    INNER JOIN orders o\n",
    "    ON oi.order_id = o.order_id\n",
    "WHERE o.order_purchase_timestamp >= '2017-01-01'\n",
    "GROUP BY oi.seller_id\n",
    "\"\"\""
   ]
  },
  {
   "cell_type": "code",
   "execution_count": 8,
   "metadata": {},
   "outputs": [],
   "source": [
    "seller_qty = pd.read_sql(seller_qt, conn)"
   ]
  },
  {
   "cell_type": "code",
   "execution_count": 9,
   "metadata": {},
   "outputs": [
    {
     "data": {
      "text/plain": [
       "(3068, 2)"
      ]
     },
     "execution_count": 9,
     "metadata": {},
     "output_type": "execute_result"
    }
   ],
   "source": [
    "seller_qty.shape"
   ]
  },
  {
   "cell_type": "code",
   "execution_count": 10,
   "metadata": {},
   "outputs": [
    {
     "data": {
      "text/html": [
       "<div>\n",
       "<style scoped>\n",
       "    .dataframe tbody tr th:only-of-type {\n",
       "        vertical-align: middle;\n",
       "    }\n",
       "\n",
       "    .dataframe tbody tr th {\n",
       "        vertical-align: top;\n",
       "    }\n",
       "\n",
       "    .dataframe thead th {\n",
       "        text-align: right;\n",
       "    }\n",
       "</style>\n",
       "<table border=\"1\" class=\"dataframe\">\n",
       "  <thead>\n",
       "    <tr style=\"text-align: right;\">\n",
       "      <th></th>\n",
       "      <th>seller_id</th>\n",
       "      <th>items_sold</th>\n",
       "    </tr>\n",
       "  </thead>\n",
       "  <tbody>\n",
       "    <tr>\n",
       "      <th>0</th>\n",
       "      <td>3504c0cb71d7fa48d967e0e4c94d59d9</td>\n",
       "      <td>53</td>\n",
       "    </tr>\n",
       "    <tr>\n",
       "      <th>1</th>\n",
       "      <td>289cdb325fb7e7f891c38608bf9e0962</td>\n",
       "      <td>126</td>\n",
       "    </tr>\n",
       "    <tr>\n",
       "      <th>2</th>\n",
       "      <td>4869f7a5dfa277a7dca6462dcf3b52b2</td>\n",
       "      <td>1156</td>\n",
       "    </tr>\n",
       "    <tr>\n",
       "      <th>3</th>\n",
       "      <td>66922902710d126a0e7d26b0e3805106</td>\n",
       "      <td>156</td>\n",
       "    </tr>\n",
       "    <tr>\n",
       "      <th>4</th>\n",
       "      <td>2c9e548be18521d1c43cde1c582c6de8</td>\n",
       "      <td>174</td>\n",
       "    </tr>\n",
       "  </tbody>\n",
       "</table>\n",
       "</div>"
      ],
      "text/plain": [
       "                          seller_id  items_sold\n",
       "0  3504c0cb71d7fa48d967e0e4c94d59d9          53\n",
       "1  289cdb325fb7e7f891c38608bf9e0962         126\n",
       "2  4869f7a5dfa277a7dca6462dcf3b52b2        1156\n",
       "3  66922902710d126a0e7d26b0e3805106         156\n",
       "4  2c9e548be18521d1c43cde1c582c6de8         174"
      ]
     },
     "execution_count": 10,
     "metadata": {},
     "output_type": "execute_result"
    }
   ],
   "source": [
    "seller_qty.head()"
   ]
  },
  {
   "cell_type": "code",
   "execution_count": 11,
   "metadata": {
    "scrolled": true
   },
   "outputs": [
    {
     "data": {
      "text/html": [
       "<div>\n",
       "<style scoped>\n",
       "    .dataframe tbody tr th:only-of-type {\n",
       "        vertical-align: middle;\n",
       "    }\n",
       "\n",
       "    .dataframe tbody tr th {\n",
       "        vertical-align: top;\n",
       "    }\n",
       "\n",
       "    .dataframe thead th {\n",
       "        text-align: right;\n",
       "    }\n",
       "</style>\n",
       "<table border=\"1\" class=\"dataframe\">\n",
       "  <thead>\n",
       "    <tr style=\"text-align: right;\">\n",
       "      <th></th>\n",
       "      <th>items_sold</th>\n",
       "    </tr>\n",
       "  </thead>\n",
       "  <tbody>\n",
       "    <tr>\n",
       "      <th>count</th>\n",
       "      <td>3068.000000</td>\n",
       "    </tr>\n",
       "    <tr>\n",
       "      <th>mean</th>\n",
       "      <td>36.597132</td>\n",
       "    </tr>\n",
       "    <tr>\n",
       "      <th>std</th>\n",
       "      <td>119.512140</td>\n",
       "    </tr>\n",
       "    <tr>\n",
       "      <th>min</th>\n",
       "      <td>1.000000</td>\n",
       "    </tr>\n",
       "    <tr>\n",
       "      <th>25%</th>\n",
       "      <td>2.000000</td>\n",
       "    </tr>\n",
       "    <tr>\n",
       "      <th>50%</th>\n",
       "      <td>8.000000</td>\n",
       "    </tr>\n",
       "    <tr>\n",
       "      <th>75%</th>\n",
       "      <td>25.000000</td>\n",
       "    </tr>\n",
       "    <tr>\n",
       "      <th>max</th>\n",
       "      <td>2033.000000</td>\n",
       "    </tr>\n",
       "  </tbody>\n",
       "</table>\n",
       "</div>"
      ],
      "text/plain": [
       "        items_sold\n",
       "count  3068.000000\n",
       "mean     36.597132\n",
       "std     119.512140\n",
       "min       1.000000\n",
       "25%       2.000000\n",
       "50%       8.000000\n",
       "75%      25.000000\n",
       "max    2033.000000"
      ]
     },
     "execution_count": 11,
     "metadata": {},
     "output_type": "execute_result"
    }
   ],
   "source": [
    "seller_qty.describe()"
   ]
  },
  {
   "cell_type": "markdown",
   "metadata": {},
   "source": [
    "- Lots of outliers\n",
    "- Top seller has sold 2033\n",
    "- A lot of sellers who don't sell much\n",
    "- The mean is much higher than the 50% percentile\n",
    "- 25% of our sellers have sold 2 or fewer items\n",
    "- 50% of our sellers have sold 8 or fewer items\n",
    "- A quarter of our sellers have sold over 25 items\n",
    "- The lowest performing seller has sold 1 item"
   ]
  },
  {
   "cell_type": "code",
   "execution_count": 12,
   "metadata": {},
   "outputs": [
    {
     "data": {
      "text/plain": [
       "pandas.core.frame.DataFrame"
      ]
     },
     "execution_count": 12,
     "metadata": {},
     "output_type": "execute_result"
    }
   ],
   "source": [
    "type(seller_qty.describe())"
   ]
  },
  {
   "cell_type": "code",
   "execution_count": 18,
   "metadata": {},
   "outputs": [
    {
     "data": {
      "text/plain": [
       "items_sold    36.597132\n",
       "Name: mean, dtype: float64"
      ]
     },
     "execution_count": 18,
     "metadata": {},
     "output_type": "execute_result"
    }
   ],
   "source": [
    "seller_qty.describe().loc[\"mean\"]"
   ]
  },
  {
   "cell_type": "code",
   "execution_count": 19,
   "metadata": {},
   "outputs": [
    {
     "data": {
      "text/plain": [
       "items_sold    36.597132\n",
       "Name: mean, dtype: float64"
      ]
     },
     "execution_count": 19,
     "metadata": {},
     "output_type": "execute_result"
    }
   ],
   "source": [
    "#other way to do it\n",
    "seller_qty.describe().iloc[1]"
   ]
  },
  {
   "cell_type": "code",
   "execution_count": 20,
   "metadata": {},
   "outputs": [
    {
     "data": {
      "text/plain": [
       "36.59713168187744"
      ]
     },
     "execution_count": 20,
     "metadata": {},
     "output_type": "execute_result"
    }
   ],
   "source": [
    "seller_qty[\"items_sold\"].mean()"
   ]
  },
  {
   "cell_type": "code",
   "execution_count": 21,
   "metadata": {},
   "outputs": [
    {
     "data": {
      "text/plain": [
       "8.0"
      ]
     },
     "execution_count": 21,
     "metadata": {},
     "output_type": "execute_result"
    }
   ],
   "source": [
    "np.percentile(seller_qty[\"items_sold\"], 50)"
   ]
  },
  {
   "cell_type": "code",
   "execution_count": 22,
   "metadata": {},
   "outputs": [
    {
     "data": {
      "text/plain": [
       "8.0"
      ]
     },
     "execution_count": 22,
     "metadata": {},
     "output_type": "execute_result"
    }
   ],
   "source": [
    "np.quantile(seller_qty[\"items_sold\"], 0.5)"
   ]
  },
  {
   "cell_type": "markdown",
   "metadata": {},
   "source": [
    "Draw a box and whisker plot, using built-in pandas method"
   ]
  },
  {
   "cell_type": "code",
   "execution_count": 23,
   "metadata": {},
   "outputs": [
    {
     "data": {
      "image/png": "[encoded data removed]",
      "text/plain": [
       "<Figure size 432x288 with 1 Axes>"
      ]
     },
     "metadata": {
      "needs_background": "light"
     },
     "output_type": "display_data"
    }
   ],
   "source": [
    "seller_qty[\"items_sold\"].plot(kind=\"box\");"
   ]
  },
  {
   "cell_type": "code",
   "execution_count": 25,
   "metadata": {},
   "outputs": [
    {
     "data": {
      "image/png": "[encoded data removed]",
      "text/plain": [
       "<Figure size 432x288 with 1 Axes>"
      ]
     },
     "metadata": {
      "needs_background": "light"
     },
     "output_type": "display_data"
    }
   ],
   "source": [
    "seller_qty[\"items_sold\"].plot(kind=\"box\", ylim=(0,100));"
   ]
  },
  {
   "cell_type": "code",
   "execution_count": 26,
   "metadata": {},
   "outputs": [
    {
     "data": {
      "image/png": "[encoded data removed]",
      "text/plain": [
       "<Figure size 432x288 with 1 Axes>"
      ]
     },
     "metadata": {
      "needs_background": "light"
     },
     "output_type": "display_data"
    }
   ],
   "source": [
    "seller_qty[\"items_sold\"].plot(kind=\"box\", ylim=(0,60));"
   ]
  },
  {
   "cell_type": "code",
   "execution_count": 27,
   "metadata": {},
   "outputs": [
    {
     "data": {
      "text/plain": [
       "(409, 2)"
      ]
     },
     "execution_count": 27,
     "metadata": {},
     "output_type": "execute_result"
    }
   ],
   "source": [
    "seller_qty.loc[seller_qty[\"items_sold\"]>58].shape"
   ]
  },
  {
   "cell_type": "code",
   "execution_count": 28,
   "metadata": {},
   "outputs": [
    {
     "data": {
      "image/png": "[encoded data removed]",
      "text/plain": [
       "<Figure size 432x288 with 1 Axes>"
      ]
     },
     "metadata": {
      "needs_background": "light"
     },
     "output_type": "display_data"
    }
   ],
   "source": [
    "seller_qty[\"items_sold\"].plot(kind=\"hist\");"
   ]
  },
  {
   "cell_type": "markdown",
   "metadata": {},
   "source": [
    "Interpretation -Anythin over 750 is so rare that you almost cannot see it in comparison to how many fall into the first bin."
   ]
  },
  {
   "cell_type": "code",
   "execution_count": 29,
   "metadata": {},
   "outputs": [
    {
     "data": {
      "image/png": "[encoded data removed]",
      "text/plain": [
       "<Figure size 432x288 with 1 Axes>"
      ]
     },
     "metadata": {
      "needs_background": "light"
     },
     "output_type": "display_data"
    }
   ],
   "source": [
    "seller_qty[\"items_sold\"].plot(kind=\"hist\", bins=100);"
   ]
  },
  {
   "cell_type": "code",
   "execution_count": 33,
   "metadata": {},
   "outputs": [
    {
     "data": {
      "image/png": "[encoded data removed]",
      "text/plain": [
       "<Figure size 432x288 with 1 Axes>"
      ]
     },
     "metadata": {
      "needs_background": "light"
     },
     "output_type": "display_data"
    }
   ],
   "source": [
    "seller_qty[\"items_sold\"].plot(kind=\"hist\", bins=100, xlim=(0,250));"
   ]
  },
  {
   "cell_type": "code",
   "execution_count": 34,
   "metadata": {},
   "outputs": [
    {
     "data": {
      "image/png": "[encoded data removed]",
      "text/plain": [
       "<Figure size 432x288 with 1 Axes>"
      ]
     },
     "metadata": {
      "needs_background": "light"
     },
     "output_type": "display_data"
    }
   ],
   "source": [
    "seller_qty[\"items_sold\"].plot(kind=\"hist\", bins=1000, xlim=(0,250));"
   ]
  },
  {
   "cell_type": "code",
   "execution_count": 35,
   "metadata": {},
   "outputs": [
    {
     "data": {
      "text/plain": [
       "1.0"
      ]
     },
     "execution_count": 35,
     "metadata": {},
     "output_type": "execute_result"
    }
   ],
   "source": [
    "np.percentile(seller_qty[\"items_sold\"], 1)"
   ]
  },
  {
   "cell_type": "code",
   "execution_count": 36,
   "metadata": {},
   "outputs": [
    {
     "data": {
      "text/plain": [
       "2.0"
      ]
     },
     "execution_count": 36,
     "metadata": {},
     "output_type": "execute_result"
    }
   ],
   "source": [
    "np.percentile(seller_qty[\"items_sold\"], 25)"
   ]
  },
  {
   "cell_type": "code",
   "execution_count": 37,
   "metadata": {},
   "outputs": [
    {
     "data": {
      "text/plain": [
       "array([1., 1., 1.])"
      ]
     },
     "execution_count": 37,
     "metadata": {},
     "output_type": "execute_result"
    }
   ],
   "source": [
    "np.percentile(seller_qty[\"items_sold\"], [1,2,3])"
   ]
  },
  {
   "cell_type": "code",
   "execution_count": 38,
   "metadata": {},
   "outputs": [
    {
     "data": {
      "text/plain": [
       "2.0"
      ]
     },
     "execution_count": 38,
     "metadata": {},
     "output_type": "execute_result"
    }
   ],
   "source": [
    "seller_qty[\"items_sold\"].quantile(.25)"
   ]
  },
  {
   "cell_type": "code",
   "execution_count": 40,
   "metadata": {},
   "outputs": [
    {
     "data": {
      "text/plain": [
       "0.01      1.00\n",
       "0.02      1.00\n",
       "0.03      1.00\n",
       "0.04      1.00\n",
       "0.05      1.00\n",
       "         ...  \n",
       "0.95    147.65\n",
       "0.96    177.32\n",
       "0.97    211.99\n",
       "0.98    304.64\n",
       "0.99    432.32\n",
       "Name: items_sold, Length: 99, dtype: float64"
      ]
     },
     "execution_count": 40,
     "metadata": {},
     "output_type": "execute_result"
    }
   ],
   "source": [
    "seller_qty[\"items_sold\"].quantile([x/100 for x in range(1,100)])"
   ]
  },
  {
   "cell_type": "code",
   "execution_count": 42,
   "metadata": {},
   "outputs": [
    {
     "data": {
      "text/plain": [
       "0.1     1.0\n",
       "0.2     2.0\n",
       "0.3     3.0\n",
       "0.4     5.0\n",
       "0.5     8.0\n",
       "0.6    11.0\n",
       "0.7    18.0\n",
       "0.8    35.0\n",
       "0.9    81.0\n",
       "Name: items_sold, dtype: float64"
      ]
     },
     "execution_count": 42,
     "metadata": {},
     "output_type": "execute_result"
    }
   ],
   "source": [
    "seller_qty[\"items_sold\"].quantile([x/10 for x in range(1,10)])"
   ]
  },
  {
   "cell_type": "markdown",
   "metadata": {},
   "source": [
    "# 3. How much revenue are they generating?"
   ]
  },
  {
   "cell_type": "code",
   "execution_count": 43,
   "metadata": {},
   "outputs": [],
   "source": [
    "seller_rev_query = \"\"\"\n",
    "SELECT \n",
    "    oi.seller_id,\n",
    "    COUNT(*)        AS items_sold, \n",
    "    SUM(oi.price)   AS revenue\n",
    "FROM order_items oi\n",
    "    INNER JOIN orders o\n",
    "    ON oi.order_id = o.order_id\n",
    "WHERE o.order_purchase_timestamp >= '2017-01-01'\n",
    "GROUP BY oi.seller_id\n",
    "\"\"\""
   ]
  },
  {
   "cell_type": "code",
   "execution_count": 44,
   "metadata": {},
   "outputs": [],
   "source": [
    "sellers_rev = pd.read_sql(seller_rev_query, conn)"
   ]
  },
  {
   "cell_type": "code",
   "execution_count": 45,
   "metadata": {},
   "outputs": [
    {
     "data": {
      "text/html": [
       "<div>\n",
       "<style scoped>\n",
       "    .dataframe tbody tr th:only-of-type {\n",
       "        vertical-align: middle;\n",
       "    }\n",
       "\n",
       "    .dataframe tbody tr th {\n",
       "        vertical-align: top;\n",
       "    }\n",
       "\n",
       "    .dataframe thead th {\n",
       "        text-align: right;\n",
       "    }\n",
       "</style>\n",
       "<table border=\"1\" class=\"dataframe\">\n",
       "  <thead>\n",
       "    <tr style=\"text-align: right;\">\n",
       "      <th></th>\n",
       "      <th>seller_id</th>\n",
       "      <th>items_sold</th>\n",
       "      <th>revenue</th>\n",
       "    </tr>\n",
       "  </thead>\n",
       "  <tbody>\n",
       "    <tr>\n",
       "      <th>0</th>\n",
       "      <td>3504c0cb71d7fa48d967e0e4c94d59d9</td>\n",
       "      <td>53</td>\n",
       "      <td>2349.940056</td>\n",
       "    </tr>\n",
       "    <tr>\n",
       "      <th>1</th>\n",
       "      <td>289cdb325fb7e7f891c38608bf9e0962</td>\n",
       "      <td>126</td>\n",
       "      <td>13544.950102</td>\n",
       "    </tr>\n",
       "    <tr>\n",
       "      <th>2</th>\n",
       "      <td>4869f7a5dfa277a7dca6462dcf3b52b2</td>\n",
       "      <td>1156</td>\n",
       "      <td>229472.628349</td>\n",
       "    </tr>\n",
       "    <tr>\n",
       "      <th>3</th>\n",
       "      <td>66922902710d126a0e7d26b0e3805106</td>\n",
       "      <td>156</td>\n",
       "      <td>14362.300011</td>\n",
       "    </tr>\n",
       "    <tr>\n",
       "      <th>4</th>\n",
       "      <td>2c9e548be18521d1c43cde1c582c6de8</td>\n",
       "      <td>174</td>\n",
       "      <td>6109.440094</td>\n",
       "    </tr>\n",
       "  </tbody>\n",
       "</table>\n",
       "</div>"
      ],
      "text/plain": [
       "                          seller_id  items_sold        revenue\n",
       "0  3504c0cb71d7fa48d967e0e4c94d59d9          53    2349.940056\n",
       "1  289cdb325fb7e7f891c38608bf9e0962         126   13544.950102\n",
       "2  4869f7a5dfa277a7dca6462dcf3b52b2        1156  229472.628349\n",
       "3  66922902710d126a0e7d26b0e3805106         156   14362.300011\n",
       "4  2c9e548be18521d1c43cde1c582c6de8         174    6109.440094"
      ]
     },
     "execution_count": 45,
     "metadata": {},
     "output_type": "execute_result"
    }
   ],
   "source": [
    "sellers_rev.head()"
   ]
  },
  {
   "cell_type": "code",
   "execution_count": 47,
   "metadata": {},
   "outputs": [
    {
     "data": {
      "text/plain": [
       "count      3068.000000\n",
       "mean       4413.904101\n",
       "std       13945.167724\n",
       "min           3.500000\n",
       "25%         210.150003\n",
       "50%         829.920002\n",
       "75%        3322.785002\n",
       "max      229472.628349\n",
       "Name: revenue, dtype: float64"
      ]
     },
     "execution_count": 47,
     "metadata": {},
     "output_type": "execute_result"
    }
   ],
   "source": [
    "sellers_rev[\"revenue\"].describe()"
   ]
  },
  {
   "cell_type": "code",
   "execution_count": 48,
   "metadata": {},
   "outputs": [
    {
     "data": {
      "text/html": [
       "<div>\n",
       "<style scoped>\n",
       "    .dataframe tbody tr th:only-of-type {\n",
       "        vertical-align: middle;\n",
       "    }\n",
       "\n",
       "    .dataframe tbody tr th {\n",
       "        vertical-align: top;\n",
       "    }\n",
       "\n",
       "    .dataframe thead th {\n",
       "        text-align: right;\n",
       "    }\n",
       "</style>\n",
       "<table border=\"1\" class=\"dataframe\">\n",
       "  <thead>\n",
       "    <tr style=\"text-align: right;\">\n",
       "      <th></th>\n",
       "      <th>items_sold</th>\n",
       "      <th>revenue</th>\n",
       "    </tr>\n",
       "  </thead>\n",
       "  <tbody>\n",
       "    <tr>\n",
       "      <th>count</th>\n",
       "      <td>3068.000000</td>\n",
       "      <td>3068.000000</td>\n",
       "    </tr>\n",
       "    <tr>\n",
       "      <th>mean</th>\n",
       "      <td>36.597132</td>\n",
       "      <td>4413.904101</td>\n",
       "    </tr>\n",
       "    <tr>\n",
       "      <th>std</th>\n",
       "      <td>119.512140</td>\n",
       "      <td>13945.167724</td>\n",
       "    </tr>\n",
       "    <tr>\n",
       "      <th>min</th>\n",
       "      <td>1.000000</td>\n",
       "      <td>3.500000</td>\n",
       "    </tr>\n",
       "    <tr>\n",
       "      <th>25%</th>\n",
       "      <td>2.000000</td>\n",
       "      <td>210.150003</td>\n",
       "    </tr>\n",
       "    <tr>\n",
       "      <th>50%</th>\n",
       "      <td>8.000000</td>\n",
       "      <td>829.920002</td>\n",
       "    </tr>\n",
       "    <tr>\n",
       "      <th>75%</th>\n",
       "      <td>25.000000</td>\n",
       "      <td>3322.785002</td>\n",
       "    </tr>\n",
       "    <tr>\n",
       "      <th>max</th>\n",
       "      <td>2033.000000</td>\n",
       "      <td>229472.628349</td>\n",
       "    </tr>\n",
       "  </tbody>\n",
       "</table>\n",
       "</div>"
      ],
      "text/plain": [
       "        items_sold        revenue\n",
       "count  3068.000000    3068.000000\n",
       "mean     36.597132    4413.904101\n",
       "std     119.512140   13945.167724\n",
       "min       1.000000       3.500000\n",
       "25%       2.000000     210.150003\n",
       "50%       8.000000     829.920002\n",
       "75%      25.000000    3322.785002\n",
       "max    2033.000000  229472.628349"
      ]
     },
     "execution_count": 48,
     "metadata": {},
     "output_type": "execute_result"
    }
   ],
   "source": [
    "sellers_rev.describe()"
   ]
  },
  {
   "cell_type": "markdown",
   "metadata": {},
   "source": [
    "- The mean is higher than our median, similar to items_sold. This means that our data is right skewed. Most of our sellers are making relatively little money, while a few sellers are making the most. \n",
    "- Only 25% of our sellers are making more than 3322"
   ]
  },
  {
   "cell_type": "code",
   "execution_count": 49,
   "metadata": {},
   "outputs": [
    {
     "data": {
      "image/png": "[encoded data removed]",
      "text/plain": [
       "<Figure size 432x288 with 1 Axes>"
      ]
     },
     "metadata": {
      "needs_background": "light"
     },
     "output_type": "display_data"
    }
   ],
   "source": [
    "sellers_rev[\"revenue\"].plot(kind=\"box\");"
   ]
  },
  {
   "cell_type": "markdown",
   "metadata": {},
   "source": [
    "Because only 25% percent of people are bringing in most of the revenue or over 3322, these are the people we need to focus our efforts on and make sure they don't leave.    "
   ]
  },
  {
   "cell_type": "markdown",
   "metadata": {},
   "source": [
    "# How much do we depend on the top sellers?"
   ]
  },
  {
   "cell_type": "code",
   "execution_count": 50,
   "metadata": {},
   "outputs": [],
   "source": [
    "top_seller = sellers_rev.copy()"
   ]
  },
  {
   "cell_type": "code",
   "execution_count": 53,
   "metadata": {},
   "outputs": [],
   "source": [
    "#sorting the data based on revenue and resetting the index\n",
    "top_seller = (top_seller\n",
    "              .sort_values(\"revenue\", ascending=False)\n",
    "              .reset_index(drop=True))"
   ]
  },
  {
   "cell_type": "code",
   "execution_count": 54,
   "metadata": {},
   "outputs": [
    {
     "data": {
      "text/html": [
       "<div>\n",
       "<style scoped>\n",
       "    .dataframe tbody tr th:only-of-type {\n",
       "        vertical-align: middle;\n",
       "    }\n",
       "\n",
       "    .dataframe tbody tr th {\n",
       "        vertical-align: top;\n",
       "    }\n",
       "\n",
       "    .dataframe thead th {\n",
       "        text-align: right;\n",
       "    }\n",
       "</style>\n",
       "<table border=\"1\" class=\"dataframe\">\n",
       "  <thead>\n",
       "    <tr style=\"text-align: right;\">\n",
       "      <th></th>\n",
       "      <th>seller_id</th>\n",
       "      <th>items_sold</th>\n",
       "      <th>revenue</th>\n",
       "    </tr>\n",
       "  </thead>\n",
       "  <tbody>\n",
       "    <tr>\n",
       "      <th>0</th>\n",
       "      <td>4869f7a5dfa277a7dca6462dcf3b52b2</td>\n",
       "      <td>1156</td>\n",
       "      <td>229472.628349</td>\n",
       "    </tr>\n",
       "    <tr>\n",
       "      <th>1</th>\n",
       "      <td>53243585a1d6dc2643021fd1853d8905</td>\n",
       "      <td>410</td>\n",
       "      <td>222776.049545</td>\n",
       "    </tr>\n",
       "    <tr>\n",
       "      <th>2</th>\n",
       "      <td>4a3ca9315b744ce9f8e9374361493884</td>\n",
       "      <td>1987</td>\n",
       "      <td>200472.921459</td>\n",
       "    </tr>\n",
       "    <tr>\n",
       "      <th>3</th>\n",
       "      <td>fa1c13f2614d7b5c4749cbc52fecda94</td>\n",
       "      <td>586</td>\n",
       "      <td>194042.029396</td>\n",
       "    </tr>\n",
       "    <tr>\n",
       "      <th>4</th>\n",
       "      <td>7c67e1448b00f6e969d365cea6b010ab</td>\n",
       "      <td>1364</td>\n",
       "      <td>187923.891939</td>\n",
       "    </tr>\n",
       "  </tbody>\n",
       "</table>\n",
       "</div>"
      ],
      "text/plain": [
       "                          seller_id  items_sold        revenue\n",
       "0  4869f7a5dfa277a7dca6462dcf3b52b2        1156  229472.628349\n",
       "1  53243585a1d6dc2643021fd1853d8905         410  222776.049545\n",
       "2  4a3ca9315b744ce9f8e9374361493884        1987  200472.921459\n",
       "3  fa1c13f2614d7b5c4749cbc52fecda94         586  194042.029396\n",
       "4  7c67e1448b00f6e969d365cea6b010ab        1364  187923.891939"
      ]
     },
     "execution_count": 54,
     "metadata": {},
     "output_type": "execute_result"
    }
   ],
   "source": [
    "top_seller.head()"
   ]
  },
  {
   "cell_type": "code",
   "execution_count": 60,
   "metadata": {},
   "outputs": [],
   "source": [
    "#getting the rank from the index\n",
    "top_seller = (top_seller\n",
    "             .assign(rank=top_seller.index+1)\n",
    "# getting the cumulative sum over revnue\n",
    "             .assign(cum_rev=top_seller[\"revenue\"].cumsum()))"
   ]
  },
  {
   "cell_type": "code",
   "execution_count": 61,
   "metadata": {},
   "outputs": [
    {
     "data": {
      "text/html": [
       "<div>\n",
       "<style scoped>\n",
       "    .dataframe tbody tr th:only-of-type {\n",
       "        vertical-align: middle;\n",
       "    }\n",
       "\n",
       "    .dataframe tbody tr th {\n",
       "        vertical-align: top;\n",
       "    }\n",
       "\n",
       "    .dataframe thead th {\n",
       "        text-align: right;\n",
       "    }\n",
       "</style>\n",
       "<table border=\"1\" class=\"dataframe\">\n",
       "  <thead>\n",
       "    <tr style=\"text-align: right;\">\n",
       "      <th></th>\n",
       "      <th>seller_id</th>\n",
       "      <th>items_sold</th>\n",
       "      <th>revenue</th>\n",
       "      <th>rank</th>\n",
       "      <th>cum_rev</th>\n",
       "    </tr>\n",
       "  </thead>\n",
       "  <tbody>\n",
       "    <tr>\n",
       "      <th>0</th>\n",
       "      <td>4869f7a5dfa277a7dca6462dcf3b52b2</td>\n",
       "      <td>1156</td>\n",
       "      <td>229472.628349</td>\n",
       "      <td>1</td>\n",
       "      <td>2.294726e+05</td>\n",
       "    </tr>\n",
       "    <tr>\n",
       "      <th>1</th>\n",
       "      <td>53243585a1d6dc2643021fd1853d8905</td>\n",
       "      <td>410</td>\n",
       "      <td>222776.049545</td>\n",
       "      <td>2</td>\n",
       "      <td>4.522487e+05</td>\n",
       "    </tr>\n",
       "    <tr>\n",
       "      <th>2</th>\n",
       "      <td>4a3ca9315b744ce9f8e9374361493884</td>\n",
       "      <td>1987</td>\n",
       "      <td>200472.921459</td>\n",
       "      <td>3</td>\n",
       "      <td>6.527216e+05</td>\n",
       "    </tr>\n",
       "    <tr>\n",
       "      <th>3</th>\n",
       "      <td>fa1c13f2614d7b5c4749cbc52fecda94</td>\n",
       "      <td>586</td>\n",
       "      <td>194042.029396</td>\n",
       "      <td>4</td>\n",
       "      <td>8.467636e+05</td>\n",
       "    </tr>\n",
       "    <tr>\n",
       "      <th>4</th>\n",
       "      <td>7c67e1448b00f6e969d365cea6b010ab</td>\n",
       "      <td>1364</td>\n",
       "      <td>187923.891939</td>\n",
       "      <td>5</td>\n",
       "      <td>1.034688e+06</td>\n",
       "    </tr>\n",
       "  </tbody>\n",
       "</table>\n",
       "</div>"
      ],
      "text/plain": [
       "                          seller_id  items_sold        revenue  rank  \\\n",
       "0  4869f7a5dfa277a7dca6462dcf3b52b2        1156  229472.628349     1   \n",
       "1  53243585a1d6dc2643021fd1853d8905         410  222776.049545     2   \n",
       "2  4a3ca9315b744ce9f8e9374361493884        1987  200472.921459     3   \n",
       "3  fa1c13f2614d7b5c4749cbc52fecda94         586  194042.029396     4   \n",
       "4  7c67e1448b00f6e969d365cea6b010ab        1364  187923.891939     5   \n",
       "\n",
       "        cum_rev  \n",
       "0  2.294726e+05  \n",
       "1  4.522487e+05  \n",
       "2  6.527216e+05  \n",
       "3  8.467636e+05  \n",
       "4  1.034688e+06  "
      ]
     },
     "execution_count": 61,
     "metadata": {},
     "output_type": "execute_result"
    }
   ],
   "source": [
    "top_seller.head()"
   ]
  },
  {
   "cell_type": "code",
   "execution_count": 65,
   "metadata": {},
   "outputs": [],
   "source": [
    "top_seller = top_seller.assign(relative_rank=(top_seller[\"rank\"]/len(top_seller)))"
   ]
  },
  {
   "cell_type": "code",
   "execution_count": 66,
   "metadata": {},
   "outputs": [
    {
     "data": {
      "text/html": [
       "<div>\n",
       "<style scoped>\n",
       "    .dataframe tbody tr th:only-of-type {\n",
       "        vertical-align: middle;\n",
       "    }\n",
       "\n",
       "    .dataframe tbody tr th {\n",
       "        vertical-align: top;\n",
       "    }\n",
       "\n",
       "    .dataframe thead th {\n",
       "        text-align: right;\n",
       "    }\n",
       "</style>\n",
       "<table border=\"1\" class=\"dataframe\">\n",
       "  <thead>\n",
       "    <tr style=\"text-align: right;\">\n",
       "      <th></th>\n",
       "      <th>seller_id</th>\n",
       "      <th>items_sold</th>\n",
       "      <th>revenue</th>\n",
       "      <th>rank</th>\n",
       "      <th>cum_rev</th>\n",
       "      <th>relative_rank</th>\n",
       "    </tr>\n",
       "  </thead>\n",
       "  <tbody>\n",
       "    <tr>\n",
       "      <th>0</th>\n",
       "      <td>4869f7a5dfa277a7dca6462dcf3b52b2</td>\n",
       "      <td>1156</td>\n",
       "      <td>229472.628349</td>\n",
       "      <td>1</td>\n",
       "      <td>2.294726e+05</td>\n",
       "      <td>0.000326</td>\n",
       "    </tr>\n",
       "    <tr>\n",
       "      <th>1</th>\n",
       "      <td>53243585a1d6dc2643021fd1853d8905</td>\n",
       "      <td>410</td>\n",
       "      <td>222776.049545</td>\n",
       "      <td>2</td>\n",
       "      <td>4.522487e+05</td>\n",
       "      <td>0.000652</td>\n",
       "    </tr>\n",
       "    <tr>\n",
       "      <th>2</th>\n",
       "      <td>4a3ca9315b744ce9f8e9374361493884</td>\n",
       "      <td>1987</td>\n",
       "      <td>200472.921459</td>\n",
       "      <td>3</td>\n",
       "      <td>6.527216e+05</td>\n",
       "      <td>0.000978</td>\n",
       "    </tr>\n",
       "    <tr>\n",
       "      <th>3</th>\n",
       "      <td>fa1c13f2614d7b5c4749cbc52fecda94</td>\n",
       "      <td>586</td>\n",
       "      <td>194042.029396</td>\n",
       "      <td>4</td>\n",
       "      <td>8.467636e+05</td>\n",
       "      <td>0.001304</td>\n",
       "    </tr>\n",
       "    <tr>\n",
       "      <th>4</th>\n",
       "      <td>7c67e1448b00f6e969d365cea6b010ab</td>\n",
       "      <td>1364</td>\n",
       "      <td>187923.891939</td>\n",
       "      <td>5</td>\n",
       "      <td>1.034688e+06</td>\n",
       "      <td>0.001630</td>\n",
       "    </tr>\n",
       "  </tbody>\n",
       "</table>\n",
       "</div>"
      ],
      "text/plain": [
       "                          seller_id  items_sold        revenue  rank  \\\n",
       "0  4869f7a5dfa277a7dca6462dcf3b52b2        1156  229472.628349     1   \n",
       "1  53243585a1d6dc2643021fd1853d8905         410  222776.049545     2   \n",
       "2  4a3ca9315b744ce9f8e9374361493884        1987  200472.921459     3   \n",
       "3  fa1c13f2614d7b5c4749cbc52fecda94         586  194042.029396     4   \n",
       "4  7c67e1448b00f6e969d365cea6b010ab        1364  187923.891939     5   \n",
       "\n",
       "        cum_rev  relative_rank  \n",
       "0  2.294726e+05       0.000326  \n",
       "1  4.522487e+05       0.000652  \n",
       "2  6.527216e+05       0.000978  \n",
       "3  8.467636e+05       0.001304  \n",
       "4  1.034688e+06       0.001630  "
      ]
     },
     "execution_count": 66,
     "metadata": {},
     "output_type": "execute_result"
    }
   ],
   "source": [
    "top_seller.head()"
   ]
  },
  {
   "cell_type": "code",
   "execution_count": 69,
   "metadata": {},
   "outputs": [],
   "source": [
    "# multiplying by 100 so easy to interperate as %\n",
    "top_seller = top_seller.assign(revenue_contribution=\n",
    "                  (top_seller[\"cum_rev\"]/top_seller[\"revenue\"].sum()*100))"
   ]
  },
  {
   "cell_type": "code",
   "execution_count": 71,
   "metadata": {},
   "outputs": [
    {
     "data": {
      "text/html": [
       "<div>\n",
       "<style scoped>\n",
       "    .dataframe tbody tr th:only-of-type {\n",
       "        vertical-align: middle;\n",
       "    }\n",
       "\n",
       "    .dataframe tbody tr th {\n",
       "        vertical-align: top;\n",
       "    }\n",
       "\n",
       "    .dataframe thead th {\n",
       "        text-align: right;\n",
       "    }\n",
       "</style>\n",
       "<table border=\"1\" class=\"dataframe\">\n",
       "  <thead>\n",
       "    <tr style=\"text-align: right;\">\n",
       "      <th></th>\n",
       "      <th>seller_id</th>\n",
       "      <th>items_sold</th>\n",
       "      <th>revenue</th>\n",
       "      <th>rank</th>\n",
       "      <th>cum_rev</th>\n",
       "      <th>relative_rank</th>\n",
       "      <th>revenue_contribution</th>\n",
       "    </tr>\n",
       "  </thead>\n",
       "  <tbody>\n",
       "    <tr>\n",
       "      <th>0</th>\n",
       "      <td>4869f7a5dfa277a7dca6462dcf3b52b2</td>\n",
       "      <td>1156</td>\n",
       "      <td>229472.628349</td>\n",
       "      <td>1</td>\n",
       "      <td>2.294726e+05</td>\n",
       "      <td>0.000326</td>\n",
       "      <td>1.694543</td>\n",
       "    </tr>\n",
       "    <tr>\n",
       "      <th>1</th>\n",
       "      <td>53243585a1d6dc2643021fd1853d8905</td>\n",
       "      <td>410</td>\n",
       "      <td>222776.049545</td>\n",
       "      <td>2</td>\n",
       "      <td>4.522487e+05</td>\n",
       "      <td>0.000652</td>\n",
       "      <td>3.339635</td>\n",
       "    </tr>\n",
       "    <tr>\n",
       "      <th>2</th>\n",
       "      <td>4a3ca9315b744ce9f8e9374361493884</td>\n",
       "      <td>1987</td>\n",
       "      <td>200472.921459</td>\n",
       "      <td>3</td>\n",
       "      <td>6.527216e+05</td>\n",
       "      <td>0.000978</td>\n",
       "      <td>4.820030</td>\n",
       "    </tr>\n",
       "    <tr>\n",
       "      <th>3</th>\n",
       "      <td>fa1c13f2614d7b5c4749cbc52fecda94</td>\n",
       "      <td>586</td>\n",
       "      <td>194042.029396</td>\n",
       "      <td>4</td>\n",
       "      <td>8.467636e+05</td>\n",
       "      <td>0.001304</td>\n",
       "      <td>6.252935</td>\n",
       "    </tr>\n",
       "    <tr>\n",
       "      <th>4</th>\n",
       "      <td>7c67e1448b00f6e969d365cea6b010ab</td>\n",
       "      <td>1364</td>\n",
       "      <td>187923.891939</td>\n",
       "      <td>5</td>\n",
       "      <td>1.034688e+06</td>\n",
       "      <td>0.001630</td>\n",
       "      <td>7.640662</td>\n",
       "    </tr>\n",
       "    <tr>\n",
       "      <th>5</th>\n",
       "      <td>7e93a43ef30c4f03f38b393420bc753a</td>\n",
       "      <td>339</td>\n",
       "      <td>175032.869331</td>\n",
       "      <td>6</td>\n",
       "      <td>1.209720e+06</td>\n",
       "      <td>0.001956</td>\n",
       "      <td>8.933194</td>\n",
       "    </tr>\n",
       "    <tr>\n",
       "      <th>6</th>\n",
       "      <td>da8622b14eb17ae2831f4ac5b9dab84a</td>\n",
       "      <td>1551</td>\n",
       "      <td>160236.568089</td>\n",
       "      <td>7</td>\n",
       "      <td>1.369957e+06</td>\n",
       "      <td>0.002282</td>\n",
       "      <td>10.116462</td>\n",
       "    </tr>\n",
       "    <tr>\n",
       "      <th>7</th>\n",
       "      <td>7a67c85e85bb2ce8582c35f2203ad736</td>\n",
       "      <td>1171</td>\n",
       "      <td>141745.531660</td>\n",
       "      <td>8</td>\n",
       "      <td>1.511702e+06</td>\n",
       "      <td>0.002608</td>\n",
       "      <td>11.163184</td>\n",
       "    </tr>\n",
       "    <tr>\n",
       "      <th>8</th>\n",
       "      <td>1025f0e2d44d7041d6cf58b6550e0bfa</td>\n",
       "      <td>1428</td>\n",
       "      <td>138968.550537</td>\n",
       "      <td>9</td>\n",
       "      <td>1.650671e+06</td>\n",
       "      <td>0.002934</td>\n",
       "      <td>12.189399</td>\n",
       "    </tr>\n",
       "    <tr>\n",
       "      <th>9</th>\n",
       "      <td>955fee9216a65b617aa5c0531780ce60</td>\n",
       "      <td>1499</td>\n",
       "      <td>135171.700697</td>\n",
       "      <td>10</td>\n",
       "      <td>1.785843e+06</td>\n",
       "      <td>0.003259</td>\n",
       "      <td>13.187576</td>\n",
       "    </tr>\n",
       "    <tr>\n",
       "      <th>10</th>\n",
       "      <td>46dc3b2cc0980fb8ec44634e21d2718e</td>\n",
       "      <td>531</td>\n",
       "      <td>125766.298500</td>\n",
       "      <td>11</td>\n",
       "      <td>1.911609e+06</td>\n",
       "      <td>0.003585</td>\n",
       "      <td>14.116298</td>\n",
       "    </tr>\n",
       "    <tr>\n",
       "      <th>11</th>\n",
       "      <td>6560211a19b47992c3666cc44a7e94c0</td>\n",
       "      <td>2033</td>\n",
       "      <td>123304.830029</td>\n",
       "      <td>12</td>\n",
       "      <td>2.034914e+06</td>\n",
       "      <td>0.003911</td>\n",
       "      <td>15.026844</td>\n",
       "    </tr>\n",
       "    <tr>\n",
       "      <th>12</th>\n",
       "      <td>7d13fca15225358621be4086e1eb0964</td>\n",
       "      <td>578</td>\n",
       "      <td>113628.970078</td>\n",
       "      <td>13</td>\n",
       "      <td>2.148543e+06</td>\n",
       "      <td>0.004237</td>\n",
       "      <td>15.865939</td>\n",
       "    </tr>\n",
       "    <tr>\n",
       "      <th>13</th>\n",
       "      <td>5dceca129747e92ff8ef7a997dc4f8ca</td>\n",
       "      <td>346</td>\n",
       "      <td>112155.529818</td>\n",
       "      <td>14</td>\n",
       "      <td>2.260698e+06</td>\n",
       "      <td>0.004563</td>\n",
       "      <td>16.694152</td>\n",
       "    </tr>\n",
       "    <tr>\n",
       "      <th>14</th>\n",
       "      <td>620c87c171fb2a6dd6e8bb4dec959fc6</td>\n",
       "      <td>769</td>\n",
       "      <td>108977.398788</td>\n",
       "      <td>15</td>\n",
       "      <td>2.369676e+06</td>\n",
       "      <td>0.004889</td>\n",
       "      <td>17.498897</td>\n",
       "    </tr>\n",
       "    <tr>\n",
       "      <th>15</th>\n",
       "      <td>1f50f920176fa81dab994f9023523100</td>\n",
       "      <td>1931</td>\n",
       "      <td>106939.212391</td>\n",
       "      <td>16</td>\n",
       "      <td>2.476615e+06</td>\n",
       "      <td>0.005215</td>\n",
       "      <td>18.288591</td>\n",
       "    </tr>\n",
       "    <tr>\n",
       "      <th>16</th>\n",
       "      <td>cc419e0650a3c5ba77189a1882b7556a</td>\n",
       "      <td>1775</td>\n",
       "      <td>104288.420132</td>\n",
       "      <td>17</td>\n",
       "      <td>2.580903e+06</td>\n",
       "      <td>0.005541</td>\n",
       "      <td>19.058710</td>\n",
       "    </tr>\n",
       "    <tr>\n",
       "      <th>17</th>\n",
       "      <td>a1043bafd471dff536d0c462352beb48</td>\n",
       "      <td>770</td>\n",
       "      <td>101901.160370</td>\n",
       "      <td>18</td>\n",
       "      <td>2.682805e+06</td>\n",
       "      <td>0.005867</td>\n",
       "      <td>19.811200</td>\n",
       "    </tr>\n",
       "    <tr>\n",
       "      <th>18</th>\n",
       "      <td>3d871de0142ce09b7081e2b9d1733cb1</td>\n",
       "      <td>1147</td>\n",
       "      <td>94914.200079</td>\n",
       "      <td>19</td>\n",
       "      <td>2.777719e+06</td>\n",
       "      <td>0.006193</td>\n",
       "      <td>20.512095</td>\n",
       "    </tr>\n",
       "    <tr>\n",
       "      <th>19</th>\n",
       "      <td>edb1ef5e36e0c8cd84eb3c9b003e486d</td>\n",
       "      <td>175</td>\n",
       "      <td>79284.550701</td>\n",
       "      <td>20</td>\n",
       "      <td>2.857003e+06</td>\n",
       "      <td>0.006519</td>\n",
       "      <td>21.097573</td>\n",
       "    </tr>\n",
       "  </tbody>\n",
       "</table>\n",
       "</div>"
      ],
      "text/plain": [
       "                           seller_id  items_sold        revenue  rank  \\\n",
       "0   4869f7a5dfa277a7dca6462dcf3b52b2        1156  229472.628349     1   \n",
       "1   53243585a1d6dc2643021fd1853d8905         410  222776.049545     2   \n",
       "2   4a3ca9315b744ce9f8e9374361493884        1987  200472.921459     3   \n",
       "3   fa1c13f2614d7b5c4749cbc52fecda94         586  194042.029396     4   \n",
       "4   7c67e1448b00f6e969d365cea6b010ab        1364  187923.891939     5   \n",
       "5   7e93a43ef30c4f03f38b393420bc753a         339  175032.869331     6   \n",
       "6   da8622b14eb17ae2831f4ac5b9dab84a        1551  160236.568089     7   \n",
       "7   7a67c85e85bb2ce8582c35f2203ad736        1171  141745.531660     8   \n",
       "8   1025f0e2d44d7041d6cf58b6550e0bfa        1428  138968.550537     9   \n",
       "9   955fee9216a65b617aa5c0531780ce60        1499  135171.700697    10   \n",
       "10  46dc3b2cc0980fb8ec44634e21d2718e         531  125766.298500    11   \n",
       "11  6560211a19b47992c3666cc44a7e94c0        2033  123304.830029    12   \n",
       "12  7d13fca15225358621be4086e1eb0964         578  113628.970078    13   \n",
       "13  5dceca129747e92ff8ef7a997dc4f8ca         346  112155.529818    14   \n",
       "14  620c87c171fb2a6dd6e8bb4dec959fc6         769  108977.398788    15   \n",
       "15  1f50f920176fa81dab994f9023523100        1931  106939.212391    16   \n",
       "16  cc419e0650a3c5ba77189a1882b7556a        1775  104288.420132    17   \n",
       "17  a1043bafd471dff536d0c462352beb48         770  101901.160370    18   \n",
       "18  3d871de0142ce09b7081e2b9d1733cb1        1147   94914.200079    19   \n",
       "19  edb1ef5e36e0c8cd84eb3c9b003e486d         175   79284.550701    20   \n",
       "\n",
       "         cum_rev  relative_rank  revenue_contribution  \n",
       "0   2.294726e+05       0.000326              1.694543  \n",
       "1   4.522487e+05       0.000652              3.339635  \n",
       "2   6.527216e+05       0.000978              4.820030  \n",
       "3   8.467636e+05       0.001304              6.252935  \n",
       "4   1.034688e+06       0.001630              7.640662  \n",
       "5   1.209720e+06       0.001956              8.933194  \n",
       "6   1.369957e+06       0.002282             10.116462  \n",
       "7   1.511702e+06       0.002608             11.163184  \n",
       "8   1.650671e+06       0.002934             12.189399  \n",
       "9   1.785843e+06       0.003259             13.187576  \n",
       "10  1.911609e+06       0.003585             14.116298  \n",
       "11  2.034914e+06       0.003911             15.026844  \n",
       "12  2.148543e+06       0.004237             15.865939  \n",
       "13  2.260698e+06       0.004563             16.694152  \n",
       "14  2.369676e+06       0.004889             17.498897  \n",
       "15  2.476615e+06       0.005215             18.288591  \n",
       "16  2.580903e+06       0.005541             19.058710  \n",
       "17  2.682805e+06       0.005867             19.811200  \n",
       "18  2.777719e+06       0.006193             20.512095  \n",
       "19  2.857003e+06       0.006519             21.097573  "
      ]
     },
     "execution_count": 71,
     "metadata": {},
     "output_type": "execute_result"
    }
   ],
   "source": [
    "top_seller.head(20)"
   ]
  },
  {
   "cell_type": "code",
   "execution_count": 72,
   "metadata": {},
   "outputs": [
    {
     "data": {
      "text/html": [
       "<div>\n",
       "<style scoped>\n",
       "    .dataframe tbody tr th:only-of-type {\n",
       "        vertical-align: middle;\n",
       "    }\n",
       "\n",
       "    .dataframe tbody tr th {\n",
       "        vertical-align: top;\n",
       "    }\n",
       "\n",
       "    .dataframe thead th {\n",
       "        text-align: right;\n",
       "    }\n",
       "</style>\n",
       "<table border=\"1\" class=\"dataframe\">\n",
       "  <thead>\n",
       "    <tr style=\"text-align: right;\">\n",
       "      <th></th>\n",
       "      <th>seller_id</th>\n",
       "      <th>items_sold</th>\n",
       "      <th>revenue</th>\n",
       "      <th>rank</th>\n",
       "      <th>cum_rev</th>\n",
       "      <th>relative_rank</th>\n",
       "      <th>revenue_contribution</th>\n",
       "    </tr>\n",
       "  </thead>\n",
       "  <tbody>\n",
       "    <tr>\n",
       "      <th>122</th>\n",
       "      <td>59fb871bf6f4522a87ba567b42dafecf</td>\n",
       "      <td>127</td>\n",
       "      <td>21598.580399</td>\n",
       "      <td>123</td>\n",
       "      <td>6.643533e+06</td>\n",
       "      <td>0.040091</td>\n",
       "      <td>49.059241</td>\n",
       "    </tr>\n",
       "    <tr>\n",
       "      <th>123</th>\n",
       "      <td>d2374cbcbb3ca4ab1086534108cc3ab7</td>\n",
       "      <td>631</td>\n",
       "      <td>21223.920174</td>\n",
       "      <td>124</td>\n",
       "      <td>6.664757e+06</td>\n",
       "      <td>0.040417</td>\n",
       "      <td>49.215969</td>\n",
       "    </tr>\n",
       "    <tr>\n",
       "      <th>124</th>\n",
       "      <td>48162d548f5b1b11b9d29d1e01f75a61</td>\n",
       "      <td>91</td>\n",
       "      <td>20510.139845</td>\n",
       "      <td>125</td>\n",
       "      <td>6.685267e+06</td>\n",
       "      <td>0.040743</td>\n",
       "      <td>49.367427</td>\n",
       "    </tr>\n",
       "    <tr>\n",
       "      <th>125</th>\n",
       "      <td>729f06993dac8e860d4f02d7088ca48a</td>\n",
       "      <td>115</td>\n",
       "      <td>20485.079700</td>\n",
       "      <td>126</td>\n",
       "      <td>6.705752e+06</td>\n",
       "      <td>0.041069</td>\n",
       "      <td>49.518699</td>\n",
       "    </tr>\n",
       "    <tr>\n",
       "      <th>126</th>\n",
       "      <td>00ee68308b45bc5e2660cd833c3f81cc</td>\n",
       "      <td>172</td>\n",
       "      <td>20260.000000</td>\n",
       "      <td>127</td>\n",
       "      <td>6.726012e+06</td>\n",
       "      <td>0.041395</td>\n",
       "      <td>49.668309</td>\n",
       "    </tr>\n",
       "    <tr>\n",
       "      <th>127</th>\n",
       "      <td>bfd27a966d91cfaafdb25d076585f0da</td>\n",
       "      <td>118</td>\n",
       "      <td>19921.000000</td>\n",
       "      <td>128</td>\n",
       "      <td>6.745933e+06</td>\n",
       "      <td>0.041721</td>\n",
       "      <td>49.815416</td>\n",
       "    </tr>\n",
       "    <tr>\n",
       "      <th>128</th>\n",
       "      <td>004c9cd9d87a3c30c522c48c4fc07416</td>\n",
       "      <td>170</td>\n",
       "      <td>19712.710007</td>\n",
       "      <td>129</td>\n",
       "      <td>6.765646e+06</td>\n",
       "      <td>0.042047</td>\n",
       "      <td>49.960985</td>\n",
       "    </tr>\n",
       "    <tr>\n",
       "      <th>129</th>\n",
       "      <td>d650b663c3b5f6fb392b6326366efa9a</td>\n",
       "      <td>60</td>\n",
       "      <td>19242.899994</td>\n",
       "      <td>130</td>\n",
       "      <td>6.784888e+06</td>\n",
       "      <td>0.042373</td>\n",
       "      <td>50.103084</td>\n",
       "    </tr>\n",
       "    <tr>\n",
       "      <th>130</th>\n",
       "      <td>821fb029fc6e495ca4f08a35d51e53a5</td>\n",
       "      <td>29</td>\n",
       "      <td>19187.419968</td>\n",
       "      <td>131</td>\n",
       "      <td>6.804076e+06</td>\n",
       "      <td>0.042699</td>\n",
       "      <td>50.244774</td>\n",
       "    </tr>\n",
       "    <tr>\n",
       "      <th>131</th>\n",
       "      <td>f457c46070d02cadd8a68551231220dd</td>\n",
       "      <td>234</td>\n",
       "      <td>19093.000183</td>\n",
       "      <td>132</td>\n",
       "      <td>6.823169e+06</td>\n",
       "      <td>0.043025</td>\n",
       "      <td>50.385766</td>\n",
       "    </tr>\n",
       "    <tr>\n",
       "      <th>132</th>\n",
       "      <td>2a5b78b41cd05baeac8df54c6606b92c</td>\n",
       "      <td>60</td>\n",
       "      <td>19025.360172</td>\n",
       "      <td>133</td>\n",
       "      <td>6.842194e+06</td>\n",
       "      <td>0.043351</td>\n",
       "      <td>50.526259</td>\n",
       "    </tr>\n",
       "    <tr>\n",
       "      <th>133</th>\n",
       "      <td>dc317f341ab0e22f39acbd9dbf9b4a1f</td>\n",
       "      <td>58</td>\n",
       "      <td>18988.399727</td>\n",
       "      <td>134</td>\n",
       "      <td>6.861183e+06</td>\n",
       "      <td>0.043677</td>\n",
       "      <td>50.666480</td>\n",
       "    </tr>\n",
       "    <tr>\n",
       "      <th>134</th>\n",
       "      <td>96493fab2fbb13a14d0c0e8772eef5c3</td>\n",
       "      <td>64</td>\n",
       "      <td>18969.000000</td>\n",
       "      <td>135</td>\n",
       "      <td>6.880152e+06</td>\n",
       "      <td>0.044003</td>\n",
       "      <td>50.806556</td>\n",
       "    </tr>\n",
       "    <tr>\n",
       "      <th>135</th>\n",
       "      <td>44073f8b7e41514de3b7815dd0237f4f</td>\n",
       "      <td>153</td>\n",
       "      <td>18729.639961</td>\n",
       "      <td>136</td>\n",
       "      <td>6.898881e+06</td>\n",
       "      <td>0.044329</td>\n",
       "      <td>50.944866</td>\n",
       "    </tr>\n",
       "  </tbody>\n",
       "</table>\n",
       "</div>"
      ],
      "text/plain": [
       "                            seller_id  items_sold       revenue  rank  \\\n",
       "122  59fb871bf6f4522a87ba567b42dafecf         127  21598.580399   123   \n",
       "123  d2374cbcbb3ca4ab1086534108cc3ab7         631  21223.920174   124   \n",
       "124  48162d548f5b1b11b9d29d1e01f75a61          91  20510.139845   125   \n",
       "125  729f06993dac8e860d4f02d7088ca48a         115  20485.079700   126   \n",
       "126  00ee68308b45bc5e2660cd833c3f81cc         172  20260.000000   127   \n",
       "127  bfd27a966d91cfaafdb25d076585f0da         118  19921.000000   128   \n",
       "128  004c9cd9d87a3c30c522c48c4fc07416         170  19712.710007   129   \n",
       "129  d650b663c3b5f6fb392b6326366efa9a          60  19242.899994   130   \n",
       "130  821fb029fc6e495ca4f08a35d51e53a5          29  19187.419968   131   \n",
       "131  f457c46070d02cadd8a68551231220dd         234  19093.000183   132   \n",
       "132  2a5b78b41cd05baeac8df54c6606b92c          60  19025.360172   133   \n",
       "133  dc317f341ab0e22f39acbd9dbf9b4a1f          58  18988.399727   134   \n",
       "134  96493fab2fbb13a14d0c0e8772eef5c3          64  18969.000000   135   \n",
       "135  44073f8b7e41514de3b7815dd0237f4f         153  18729.639961   136   \n",
       "\n",
       "          cum_rev  relative_rank  revenue_contribution  \n",
       "122  6.643533e+06       0.040091             49.059241  \n",
       "123  6.664757e+06       0.040417             49.215969  \n",
       "124  6.685267e+06       0.040743             49.367427  \n",
       "125  6.705752e+06       0.041069             49.518699  \n",
       "126  6.726012e+06       0.041395             49.668309  \n",
       "127  6.745933e+06       0.041721             49.815416  \n",
       "128  6.765646e+06       0.042047             49.960985  \n",
       "129  6.784888e+06       0.042373             50.103084  \n",
       "130  6.804076e+06       0.042699             50.244774  \n",
       "131  6.823169e+06       0.043025             50.385766  \n",
       "132  6.842194e+06       0.043351             50.526259  \n",
       "133  6.861183e+06       0.043677             50.666480  \n",
       "134  6.880152e+06       0.044003             50.806556  \n",
       "135  6.898881e+06       0.044329             50.944866  "
      ]
     },
     "execution_count": 72,
     "metadata": {},
     "output_type": "execute_result"
    }
   ],
   "source": [
    "top_seller.loc[top_seller[\"revenue_contribution\"].between(49,51)]"
   ]
  }
 ],
 "metadata": {
  "kernelspec": {
   "display_name": "Python 3",
   "language": "python",
   "name": "python3"
  },
  "language_info": {
   "codemirror_mode": {
    "name": "ipython",
    "version": 3
   },
   "file_extension": ".py",
   "mimetype": "text/x-python",
   "name": "python",
   "nbconvert_exporter": "python",
   "pygments_lexer": "ipython3",
   "version": "3.8.5"
  }
 },
 "nbformat": 4,
 "nbformat_minor": 4
}
