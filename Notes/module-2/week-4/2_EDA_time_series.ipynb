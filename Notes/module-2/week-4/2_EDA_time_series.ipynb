{
 "cells": [
  {
   "cell_type": "code",
   "execution_count": 1,
   "metadata": {},
   "outputs": [],
   "source": [
    "import pandas as pd\n",
    "import numpy as np\n",
    "import matplotlib\n",
    "import matplotlib.pyplot as plt\n",
    "import seaborn as sns\n",
    "import pymysql\n",
    "import getpass\n",
    "%matplotlib inline"
   ]
  },
  {
   "cell_type": "code",
   "execution_count": 2,
   "metadata": {},
   "outputs": [
    {
     "name": "stdout",
     "output_type": "stream",
     "text": [
      "········\n"
     ]
    }
   ],
   "source": [
    "conn = pymysql.connect(host=\"localhost\",\n",
    "                       port=3306,\n",
    "                       user=\"root\",\n",
    "                       passwd=getpass.getpass(),\n",
    "                       db=\"olist\")"
   ]
  },
  {
   "cell_type": "markdown",
   "metadata": {},
   "source": [
    "# Time Series\n",
    "\n",
    "We start by looking at a crucial component of our business - the number of incoming orders"
   ]
  },
  {
   "cell_type": "markdown",
   "metadata": {},
   "source": [
    "## No. of Orders"
   ]
  },
  {
   "cell_type": "markdown",
   "metadata": {},
   "source": [
    "I want to have the date as a date id and number of orders, after 2017-0-01\n",
    "\n",
    "|  date_id  |number of orders  |\n",
    "|-----------|------------------|\n",
    "| 2017-01-2 | 83737|"
   ]
  },
  {
   "cell_type": "code",
   "execution_count": 3,
   "metadata": {},
   "outputs": [],
   "source": [
    "daily_orders_query = \"\"\"\n",
    "SELECT \n",
    "    DATE(order_purchase_timestamp)  AS date_id,\n",
    "    COUNT(order_id)                 AS no_of_orders\n",
    "FROM olist.orders o \n",
    "WHERE order_purchase_timestamp > '2017-01-01'\n",
    "GROUP BY 1\n",
    "ORDER BY 1\n",
    "\"\"\"\n",
    "daily_orders = pd.read_sql(daily_orders_query, conn)"
   ]
  },
  {
   "cell_type": "code",
   "execution_count": 4,
   "metadata": {},
   "outputs": [
    {
     "data": {
      "text/html": [
       "<div>\n",
       "<style scoped>\n",
       "    .dataframe tbody tr th:only-of-type {\n",
       "        vertical-align: middle;\n",
       "    }\n",
       "\n",
       "    .dataframe tbody tr th {\n",
       "        vertical-align: top;\n",
       "    }\n",
       "\n",
       "    .dataframe thead th {\n",
       "        text-align: right;\n",
       "    }\n",
       "</style>\n",
       "<table border=\"1\" class=\"dataframe\">\n",
       "  <thead>\n",
       "    <tr style=\"text-align: right;\">\n",
       "      <th></th>\n",
       "      <th>date_id</th>\n",
       "      <th>no_of_orders</th>\n",
       "    </tr>\n",
       "  </thead>\n",
       "  <tbody>\n",
       "    <tr>\n",
       "      <th>0</th>\n",
       "      <td>2017-01-05</td>\n",
       "      <td>32</td>\n",
       "    </tr>\n",
       "    <tr>\n",
       "      <th>1</th>\n",
       "      <td>2017-01-06</td>\n",
       "      <td>3</td>\n",
       "    </tr>\n",
       "    <tr>\n",
       "      <th>2</th>\n",
       "      <td>2017-01-07</td>\n",
       "      <td>5</td>\n",
       "    </tr>\n",
       "    <tr>\n",
       "      <th>3</th>\n",
       "      <td>2017-01-08</td>\n",
       "      <td>6</td>\n",
       "    </tr>\n",
       "    <tr>\n",
       "      <th>4</th>\n",
       "      <td>2017-01-09</td>\n",
       "      <td>5</td>\n",
       "    </tr>\n",
       "  </tbody>\n",
       "</table>\n",
       "</div>"
      ],
      "text/plain": [
       "      date_id  no_of_orders\n",
       "0  2017-01-05            32\n",
       "1  2017-01-06             3\n",
       "2  2017-01-07             5\n",
       "3  2017-01-08             6\n",
       "4  2017-01-09             5"
      ]
     },
     "execution_count": 4,
     "metadata": {},
     "output_type": "execute_result"
    }
   ],
   "source": [
    "daily_orders.head()"
   ]
  },
  {
   "cell_type": "code",
   "execution_count": 5,
   "metadata": {},
   "outputs": [
    {
     "data": {
      "text/plain": [
       "date_id         object\n",
       "no_of_orders     int64\n",
       "dtype: object"
      ]
     },
     "execution_count": 5,
     "metadata": {},
     "output_type": "execute_result"
    }
   ],
   "source": [
    "daily_orders.dtypes"
   ]
  },
  {
   "cell_type": "code",
   "execution_count": 6,
   "metadata": {},
   "outputs": [],
   "source": [
    "daily_orders[\"date_id\"] = pd.to_datetime(daily_orders[\"date_id\"])"
   ]
  },
  {
   "cell_type": "code",
   "execution_count": 7,
   "metadata": {},
   "outputs": [
    {
     "data": {
      "image/png": "[encoded data removed]",
      "text/plain": [
       "<Figure size 432x288 with 1 Axes>"
      ]
     },
     "metadata": {
      "needs_background": "light"
     },
     "output_type": "display_data"
    }
   ],
   "source": [
    "sns.lineplot(data=daily_orders,\n",
    "             x=\"date_id\",\n",
    "             y=\"no_of_orders\");"
   ]
  },
  {
   "cell_type": "markdown",
   "metadata": {},
   "source": [
    "Too much detail - next we can try to look at the per week data!"
   ]
  },
  {
   "cell_type": "code",
   "execution_count": 8,
   "metadata": {},
   "outputs": [],
   "source": [
    "weekly_orders = daily_orders.copy()"
   ]
  },
  {
   "cell_type": "code",
   "execution_count": 9,
   "metadata": {},
   "outputs": [],
   "source": [
    "#one way to get week number\n",
    "weekly_orders = weekly_orders.assign(week_id=weekly_orders[\"date_id\"].dt.isocalendar().week)"
   ]
  },
  {
   "cell_type": "code",
   "execution_count": 10,
   "metadata": {},
   "outputs": [
    {
     "data": {
      "text/html": [
       "<div>\n",
       "<style scoped>\n",
       "    .dataframe tbody tr th:only-of-type {\n",
       "        vertical-align: middle;\n",
       "    }\n",
       "\n",
       "    .dataframe tbody tr th {\n",
       "        vertical-align: top;\n",
       "    }\n",
       "\n",
       "    .dataframe thead th {\n",
       "        text-align: right;\n",
       "    }\n",
       "</style>\n",
       "<table border=\"1\" class=\"dataframe\">\n",
       "  <thead>\n",
       "    <tr style=\"text-align: right;\">\n",
       "      <th></th>\n",
       "      <th>date_id</th>\n",
       "      <th>no_of_orders</th>\n",
       "      <th>week_id</th>\n",
       "    </tr>\n",
       "  </thead>\n",
       "  <tbody>\n",
       "    <tr>\n",
       "      <th>0</th>\n",
       "      <td>2017-01-05</td>\n",
       "      <td>32</td>\n",
       "      <td>1</td>\n",
       "    </tr>\n",
       "    <tr>\n",
       "      <th>1</th>\n",
       "      <td>2017-01-06</td>\n",
       "      <td>3</td>\n",
       "      <td>1</td>\n",
       "    </tr>\n",
       "    <tr>\n",
       "      <th>2</th>\n",
       "      <td>2017-01-07</td>\n",
       "      <td>5</td>\n",
       "      <td>1</td>\n",
       "    </tr>\n",
       "    <tr>\n",
       "      <th>3</th>\n",
       "      <td>2017-01-08</td>\n",
       "      <td>6</td>\n",
       "      <td>1</td>\n",
       "    </tr>\n",
       "    <tr>\n",
       "      <th>4</th>\n",
       "      <td>2017-01-09</td>\n",
       "      <td>5</td>\n",
       "      <td>2</td>\n",
       "    </tr>\n",
       "  </tbody>\n",
       "</table>\n",
       "</div>"
      ],
      "text/plain": [
       "     date_id  no_of_orders  week_id\n",
       "0 2017-01-05            32        1\n",
       "1 2017-01-06             3        1\n",
       "2 2017-01-07             5        1\n",
       "3 2017-01-08             6        1\n",
       "4 2017-01-09             5        2"
      ]
     },
     "execution_count": 10,
     "metadata": {},
     "output_type": "execute_result"
    }
   ],
   "source": [
    "weekly_orders.head()"
   ]
  },
  {
   "cell_type": "markdown",
   "metadata": {},
   "source": [
    "Here we will look at another way to get the week information. Instead of looking specifically at the week_id, we will try to force every week back to the first day of the week. We will do this by subtracting the day of the week from the date_id. "
   ]
  },
  {
   "cell_type": "code",
   "execution_count": 11,
   "metadata": {},
   "outputs": [],
   "source": [
    "weekly_orders = weekly_orders.assign(day_of_week=weekly_orders[\"date_id\"].dt.dayofweek)"
   ]
  },
  {
   "cell_type": "code",
   "execution_count": 12,
   "metadata": {},
   "outputs": [],
   "source": [
    "weekly_orders = weekly_orders.assign(week_year=weekly_orders[\"date_id\"] \n",
    "                                     - pd.to_timedelta(weekly_orders[\"date_id\"]\n",
    "                                                       .dt.dayofweek, unit=\"D\"))"
   ]
  },
  {
   "cell_type": "code",
   "execution_count": 13,
   "metadata": {},
   "outputs": [
    {
     "data": {
      "text/html": [
       "<div>\n",
       "<style scoped>\n",
       "    .dataframe tbody tr th:only-of-type {\n",
       "        vertical-align: middle;\n",
       "    }\n",
       "\n",
       "    .dataframe tbody tr th {\n",
       "        vertical-align: top;\n",
       "    }\n",
       "\n",
       "    .dataframe thead th {\n",
       "        text-align: right;\n",
       "    }\n",
       "</style>\n",
       "<table border=\"1\" class=\"dataframe\">\n",
       "  <thead>\n",
       "    <tr style=\"text-align: right;\">\n",
       "      <th></th>\n",
       "      <th>date_id</th>\n",
       "      <th>no_of_orders</th>\n",
       "      <th>week_id</th>\n",
       "      <th>day_of_week</th>\n",
       "      <th>week_year</th>\n",
       "    </tr>\n",
       "  </thead>\n",
       "  <tbody>\n",
       "    <tr>\n",
       "      <th>0</th>\n",
       "      <td>2017-01-05</td>\n",
       "      <td>32</td>\n",
       "      <td>1</td>\n",
       "      <td>3</td>\n",
       "      <td>2017-01-02</td>\n",
       "    </tr>\n",
       "    <tr>\n",
       "      <th>1</th>\n",
       "      <td>2017-01-06</td>\n",
       "      <td>3</td>\n",
       "      <td>1</td>\n",
       "      <td>4</td>\n",
       "      <td>2017-01-02</td>\n",
       "    </tr>\n",
       "    <tr>\n",
       "      <th>2</th>\n",
       "      <td>2017-01-07</td>\n",
       "      <td>5</td>\n",
       "      <td>1</td>\n",
       "      <td>5</td>\n",
       "      <td>2017-01-02</td>\n",
       "    </tr>\n",
       "    <tr>\n",
       "      <th>3</th>\n",
       "      <td>2017-01-08</td>\n",
       "      <td>6</td>\n",
       "      <td>1</td>\n",
       "      <td>6</td>\n",
       "      <td>2017-01-02</td>\n",
       "    </tr>\n",
       "    <tr>\n",
       "      <th>4</th>\n",
       "      <td>2017-01-09</td>\n",
       "      <td>5</td>\n",
       "      <td>2</td>\n",
       "      <td>0</td>\n",
       "      <td>2017-01-09</td>\n",
       "    </tr>\n",
       "  </tbody>\n",
       "</table>\n",
       "</div>"
      ],
      "text/plain": [
       "     date_id  no_of_orders  week_id  day_of_week  week_year\n",
       "0 2017-01-05            32        1            3 2017-01-02\n",
       "1 2017-01-06             3        1            4 2017-01-02\n",
       "2 2017-01-07             5        1            5 2017-01-02\n",
       "3 2017-01-08             6        1            6 2017-01-02\n",
       "4 2017-01-09             5        2            0 2017-01-09"
      ]
     },
     "execution_count": 13,
     "metadata": {},
     "output_type": "execute_result"
    }
   ],
   "source": [
    "weekly_orders.head()"
   ]
  },
  {
   "cell_type": "markdown",
   "metadata": {},
   "source": [
    "If we wanted to continue to use `week_id` we would need to add the year. For now, we will continue on with the `week_year` column."
   ]
  },
  {
   "cell_type": "code",
   "execution_count": 14,
   "metadata": {},
   "outputs": [],
   "source": [
    "weekly_orders = (weekly_orders.groupby(\"week_year\")\n",
    "                              .agg({\"no_of_orders\":\"sum\"})\n",
    "                              .reset_index())"
   ]
  },
  {
   "cell_type": "code",
   "execution_count": 15,
   "metadata": {},
   "outputs": [
    {
     "data": {
      "image/png": "[encoded data removed]",
      "text/plain": [
       "<Figure size 720x432 with 1 Axes>"
      ]
     },
     "metadata": {
      "needs_background": "light"
     },
     "output_type": "display_data"
    }
   ],
   "source": [
    "fig, ax = plt.subplots(figsize=(10,6)) #used matplotlib to change fig size\n",
    "sns.lineplot(data=weekly_orders,\n",
    "             x=\"week_year\",\n",
    "             y=\"no_of_orders\");"
   ]
  },
  {
   "cell_type": "markdown",
   "metadata": {},
   "source": [
    "A bit better than per day, but maybe per month would be better. There is still more variance than necessary."
   ]
  },
  {
   "cell_type": "code",
   "execution_count": 16,
   "metadata": {},
   "outputs": [],
   "source": [
    "monthly_orders = daily_orders.copy()"
   ]
  },
  {
   "cell_type": "code",
   "execution_count": 17,
   "metadata": {},
   "outputs": [
    {
     "data": {
      "text/html": [
       "<div>\n",
       "<style scoped>\n",
       "    .dataframe tbody tr th:only-of-type {\n",
       "        vertical-align: middle;\n",
       "    }\n",
       "\n",
       "    .dataframe tbody tr th {\n",
       "        vertical-align: top;\n",
       "    }\n",
       "\n",
       "    .dataframe thead th {\n",
       "        text-align: right;\n",
       "    }\n",
       "</style>\n",
       "<table border=\"1\" class=\"dataframe\">\n",
       "  <thead>\n",
       "    <tr style=\"text-align: right;\">\n",
       "      <th></th>\n",
       "      <th>date_id</th>\n",
       "      <th>no_of_orders</th>\n",
       "    </tr>\n",
       "  </thead>\n",
       "  <tbody>\n",
       "    <tr>\n",
       "      <th>0</th>\n",
       "      <td>2017-01-05</td>\n",
       "      <td>32</td>\n",
       "    </tr>\n",
       "    <tr>\n",
       "      <th>1</th>\n",
       "      <td>2017-01-06</td>\n",
       "      <td>3</td>\n",
       "    </tr>\n",
       "    <tr>\n",
       "      <th>2</th>\n",
       "      <td>2017-01-07</td>\n",
       "      <td>5</td>\n",
       "    </tr>\n",
       "    <tr>\n",
       "      <th>3</th>\n",
       "      <td>2017-01-08</td>\n",
       "      <td>6</td>\n",
       "    </tr>\n",
       "    <tr>\n",
       "      <th>4</th>\n",
       "      <td>2017-01-09</td>\n",
       "      <td>5</td>\n",
       "    </tr>\n",
       "  </tbody>\n",
       "</table>\n",
       "</div>"
      ],
      "text/plain": [
       "     date_id  no_of_orders\n",
       "0 2017-01-05            32\n",
       "1 2017-01-06             3\n",
       "2 2017-01-07             5\n",
       "3 2017-01-08             6\n",
       "4 2017-01-09             5"
      ]
     },
     "execution_count": 17,
     "metadata": {},
     "output_type": "execute_result"
    }
   ],
   "source": [
    "monthly_orders.head()"
   ]
  },
  {
   "cell_type": "code",
   "execution_count": 18,
   "metadata": {},
   "outputs": [
    {
     "data": {
      "text/plain": [
       "date_id         datetime64[ns]\n",
       "no_of_orders             int64\n",
       "dtype: object"
      ]
     },
     "execution_count": 18,
     "metadata": {},
     "output_type": "execute_result"
    }
   ],
   "source": [
    "monthly_orders.dtypes"
   ]
  },
  {
   "cell_type": "code",
   "execution_count": 19,
   "metadata": {},
   "outputs": [],
   "source": [
    "#in order to have a datetime object, we need to have a day\n",
    "monthly_orders = (monthly_orders\n",
    "                  .assign(month_id=pd.to_datetime(monthly_orders[\"date_id\"].dt.strftime(\"%Y-%m-01\")))\n",
    "                  .groupby(\"month_id\")\n",
    "                  .agg({\"no_of_orders\":\"sum\"})\n",
    " #                       \"other_column\":\"count\",\n",
    "#                        \"other_column\": np.sum})\n",
    "                  .reset_index())"
   ]
  },
  {
   "cell_type": "code",
   "execution_count": 20,
   "metadata": {},
   "outputs": [
    {
     "data": {
      "image/png": "[encoded data removed]",
      "text/plain": [
       "<Figure size 432x288 with 1 Axes>"
      ]
     },
     "metadata": {
      "needs_background": "light"
     },
     "output_type": "display_data"
    }
   ],
   "source": [
    "ax = sns.lineplot(data=monthly_orders,\n",
    "             x=\"month_id\",\n",
    "             y=\"no_of_orders\");\n",
    "ax.axvline(pd.to_datetime(\"2018-01-01\"), color=\"r\");"
   ]
  },
  {
   "cell_type": "markdown",
   "metadata": {},
   "source": [
    "2017 is mostly rising, 2018 is plateauing or decreasing slightly."
   ]
  },
  {
   "cell_type": "markdown",
   "metadata": {},
   "source": [
    "Number of orders in each month, by year:\n",
    "\n",
    "| year | month | no_of_orders|\n",
    "|------|-------|-------------|\n",
    "| 2017 | 1     | 239470      |"
   ]
  },
  {
   "cell_type": "code",
   "execution_count": 21,
   "metadata": {},
   "outputs": [
    {
     "data": {
      "text/html": [
       "<div>\n",
       "<style scoped>\n",
       "    .dataframe tbody tr th:only-of-type {\n",
       "        vertical-align: middle;\n",
       "    }\n",
       "\n",
       "    .dataframe tbody tr th {\n",
       "        vertical-align: top;\n",
       "    }\n",
       "\n",
       "    .dataframe thead th {\n",
       "        text-align: right;\n",
       "    }\n",
       "</style>\n",
       "<table border=\"1\" class=\"dataframe\">\n",
       "  <thead>\n",
       "    <tr style=\"text-align: right;\">\n",
       "      <th></th>\n",
       "      <th>month_id</th>\n",
       "      <th>no_of_orders</th>\n",
       "    </tr>\n",
       "  </thead>\n",
       "  <tbody>\n",
       "    <tr>\n",
       "      <th>0</th>\n",
       "      <td>2017-01-01</td>\n",
       "      <td>798</td>\n",
       "    </tr>\n",
       "    <tr>\n",
       "      <th>1</th>\n",
       "      <td>2017-02-01</td>\n",
       "      <td>1780</td>\n",
       "    </tr>\n",
       "    <tr>\n",
       "      <th>2</th>\n",
       "      <td>2017-03-01</td>\n",
       "      <td>2678</td>\n",
       "    </tr>\n",
       "    <tr>\n",
       "      <th>3</th>\n",
       "      <td>2017-04-01</td>\n",
       "      <td>2402</td>\n",
       "    </tr>\n",
       "    <tr>\n",
       "      <th>4</th>\n",
       "      <td>2017-05-01</td>\n",
       "      <td>3695</td>\n",
       "    </tr>\n",
       "    <tr>\n",
       "      <th>5</th>\n",
       "      <td>2017-06-01</td>\n",
       "      <td>3256</td>\n",
       "    </tr>\n",
       "    <tr>\n",
       "      <th>6</th>\n",
       "      <td>2017-07-01</td>\n",
       "      <td>4013</td>\n",
       "    </tr>\n",
       "    <tr>\n",
       "      <th>7</th>\n",
       "      <td>2017-08-01</td>\n",
       "      <td>4337</td>\n",
       "    </tr>\n",
       "    <tr>\n",
       "      <th>8</th>\n",
       "      <td>2017-09-01</td>\n",
       "      <td>4285</td>\n",
       "    </tr>\n",
       "    <tr>\n",
       "      <th>9</th>\n",
       "      <td>2017-10-01</td>\n",
       "      <td>4636</td>\n",
       "    </tr>\n",
       "    <tr>\n",
       "      <th>10</th>\n",
       "      <td>2017-11-01</td>\n",
       "      <td>7538</td>\n",
       "    </tr>\n",
       "    <tr>\n",
       "      <th>11</th>\n",
       "      <td>2017-12-01</td>\n",
       "      <td>5681</td>\n",
       "    </tr>\n",
       "    <tr>\n",
       "      <th>12</th>\n",
       "      <td>2018-01-01</td>\n",
       "      <td>7254</td>\n",
       "    </tr>\n",
       "    <tr>\n",
       "      <th>13</th>\n",
       "      <td>2018-02-01</td>\n",
       "      <td>6735</td>\n",
       "    </tr>\n",
       "    <tr>\n",
       "      <th>14</th>\n",
       "      <td>2018-03-01</td>\n",
       "      <td>7212</td>\n",
       "    </tr>\n",
       "    <tr>\n",
       "      <th>15</th>\n",
       "      <td>2018-04-01</td>\n",
       "      <td>6930</td>\n",
       "    </tr>\n",
       "    <tr>\n",
       "      <th>16</th>\n",
       "      <td>2018-05-01</td>\n",
       "      <td>6872</td>\n",
       "    </tr>\n",
       "    <tr>\n",
       "      <th>17</th>\n",
       "      <td>2018-06-01</td>\n",
       "      <td>6176</td>\n",
       "    </tr>\n",
       "    <tr>\n",
       "      <th>18</th>\n",
       "      <td>2018-07-01</td>\n",
       "      <td>6265</td>\n",
       "    </tr>\n",
       "    <tr>\n",
       "      <th>19</th>\n",
       "      <td>2018-08-01</td>\n",
       "      <td>6549</td>\n",
       "    </tr>\n",
       "    <tr>\n",
       "      <th>20</th>\n",
       "      <td>2018-09-01</td>\n",
       "      <td>16</td>\n",
       "    </tr>\n",
       "    <tr>\n",
       "      <th>21</th>\n",
       "      <td>2018-10-01</td>\n",
       "      <td>4</td>\n",
       "    </tr>\n",
       "  </tbody>\n",
       "</table>\n",
       "</div>"
      ],
      "text/plain": [
       "     month_id  no_of_orders\n",
       "0  2017-01-01           798\n",
       "1  2017-02-01          1780\n",
       "2  2017-03-01          2678\n",
       "3  2017-04-01          2402\n",
       "4  2017-05-01          3695\n",
       "5  2017-06-01          3256\n",
       "6  2017-07-01          4013\n",
       "7  2017-08-01          4337\n",
       "8  2017-09-01          4285\n",
       "9  2017-10-01          4636\n",
       "10 2017-11-01          7538\n",
       "11 2017-12-01          5681\n",
       "12 2018-01-01          7254\n",
       "13 2018-02-01          6735\n",
       "14 2018-03-01          7212\n",
       "15 2018-04-01          6930\n",
       "16 2018-05-01          6872\n",
       "17 2018-06-01          6176\n",
       "18 2018-07-01          6265\n",
       "19 2018-08-01          6549\n",
       "20 2018-09-01            16\n",
       "21 2018-10-01             4"
      ]
     },
     "execution_count": 21,
     "metadata": {},
     "output_type": "execute_result"
    }
   ],
   "source": [
    "monthly_orders"
   ]
  },
  {
   "cell_type": "code",
   "execution_count": 22,
   "metadata": {},
   "outputs": [
    {
     "data": {
      "text/plain": [
       "0     2017\n",
       "1     2017\n",
       "2     2017\n",
       "3     2017\n",
       "4     2017\n",
       "5     2017\n",
       "6     2017\n",
       "7     2017\n",
       "8     2017\n",
       "9     2017\n",
       "10    2017\n",
       "11    2017\n",
       "12    2018\n",
       "13    2018\n",
       "14    2018\n",
       "15    2018\n",
       "16    2018\n",
       "17    2018\n",
       "18    2018\n",
       "19    2018\n",
       "20    2018\n",
       "21    2018\n",
       "Name: month_id, dtype: int64"
      ]
     },
     "execution_count": 22,
     "metadata": {},
     "output_type": "execute_result"
    }
   ],
   "source": [
    "monthly_orders[\"month_id\"].dt.year"
   ]
  },
  {
   "cell_type": "code",
   "execution_count": 23,
   "metadata": {},
   "outputs": [
    {
     "data": {
      "text/plain": [
       "0      1\n",
       "1      2\n",
       "2      3\n",
       "3      4\n",
       "4      5\n",
       "5      6\n",
       "6      7\n",
       "7      8\n",
       "8      9\n",
       "9     10\n",
       "10    11\n",
       "11    12\n",
       "12     1\n",
       "13     2\n",
       "14     3\n",
       "15     4\n",
       "16     5\n",
       "17     6\n",
       "18     7\n",
       "19     8\n",
       "20     9\n",
       "21    10\n",
       "Name: month_id, dtype: int64"
      ]
     },
     "execution_count": 23,
     "metadata": {},
     "output_type": "execute_result"
    }
   ],
   "source": [
    "monthly_orders[\"month_id\"].dt.month"
   ]
  },
  {
   "cell_type": "code",
   "execution_count": 24,
   "metadata": {},
   "outputs": [],
   "source": [
    "monthly_orders = (monthly_orders.assign(year=monthly_orders[\"month_id\"].dt.year)\n",
    "                .assign(month=monthly_orders[\"month_id\"].dt.month))"
   ]
  },
  {
   "cell_type": "code",
   "execution_count": 25,
   "metadata": {},
   "outputs": [],
   "source": [
    "#exclude where months are incomplete\n",
    "monthly_orders = monthly_orders.loc[monthly_orders[\"month_id\"] < \"2018-09-01\"]"
   ]
  },
  {
   "cell_type": "code",
   "execution_count": 26,
   "metadata": {},
   "outputs": [
    {
     "data": {
      "image/png": "[encoded data removed]",
      "text/plain": [
       "<Figure size 432x288 with 1 Axes>"
      ]
     },
     "metadata": {
      "needs_background": "light"
     },
     "output_type": "display_data"
    }
   ],
   "source": [
    "sns.lineplot(data=monthly_orders,\n",
    "             x=\"month\",\n",
    "             y=\"no_of_orders\",\n",
    "             hue=\"year\",\n",
    "             palette=[\"blue\", \"orange\"]);"
   ]
  },
  {
   "cell_type": "markdown",
   "metadata": {},
   "source": [
    "- 2018 is doing better than 2017\n",
    "- 2017 is a year of growth, so they are building up the business and have spikes in holiday seasons\n",
    "- 2018 could be a stabilizing year - could go up again aroud Q3 or Q4 but we cant see\n",
    "\n",
    "yoy - year over year\n",
    "mom - month over month\n",
    "\n",
    "Show the same graph for other metrics"
   ]
  },
  {
   "cell_type": "markdown",
   "metadata": {},
   "source": [
    "Number of orders, Number of Sellers, Number of items sold, and Revenue \n",
    "- after 2017-01-01 before 2018-09-01\n",
    "| month | year | orders | items_sold | sellers |revenue |\n",
    "|-------|------|--------|-----------|----------|---------|"
   ]
  },
  {
   "cell_type": "code",
   "execution_count": 27,
   "metadata": {},
   "outputs": [],
   "source": [
    "monthly_perf_query = \"\"\"\n",
    "SELECT \n",
    "    YEAR(o.order_purchase_timestamp)        AS year,\n",
    "    MONTH(o.order_purchase_timestamp)       AS month, \n",
    "    COUNT(DISTINCT o.order_id)              AS orders,\n",
    "    SUM(1)                                  AS items_sold,\n",
    "    COUNT(DISTINCT oi.seller_id)            AS sellers,\n",
    "    SUM(oi.price)                           AS revenue\n",
    "FROM olist.orders o\n",
    "    INNER JOIN olist.order_items oi \n",
    "    ON o.order_id = oi.order_id \n",
    "WHERE o.order_purchase_timestamp >= '2017-01-01'\n",
    "    AND o.order_purchase_timestamp < '2018-09-01'\n",
    "GROUP BY 1, 2\n",
    "\"\"\""
   ]
  },
  {
   "cell_type": "code",
   "execution_count": 28,
   "metadata": {},
   "outputs": [],
   "source": [
    "month_perf = pd.read_sql(monthly_perf_query, conn)"
   ]
  },
  {
   "cell_type": "code",
   "execution_count": 29,
   "metadata": {},
   "outputs": [
    {
     "data": {
      "text/html": [
       "<div>\n",
       "<style scoped>\n",
       "    .dataframe tbody tr th:only-of-type {\n",
       "        vertical-align: middle;\n",
       "    }\n",
       "\n",
       "    .dataframe tbody tr th {\n",
       "        vertical-align: top;\n",
       "    }\n",
       "\n",
       "    .dataframe thead th {\n",
       "        text-align: right;\n",
       "    }\n",
       "</style>\n",
       "<table border=\"1\" class=\"dataframe\">\n",
       "  <thead>\n",
       "    <tr style=\"text-align: right;\">\n",
       "      <th></th>\n",
       "      <th>year</th>\n",
       "      <th>month</th>\n",
       "      <th>orders</th>\n",
       "      <th>items_sold</th>\n",
       "      <th>sellers</th>\n",
       "      <th>revenue</th>\n",
       "    </tr>\n",
       "  </thead>\n",
       "  <tbody>\n",
       "    <tr>\n",
       "      <th>0</th>\n",
       "      <td>2017</td>\n",
       "      <td>1</td>\n",
       "      <td>787</td>\n",
       "      <td>952.0</td>\n",
       "      <td>227</td>\n",
       "      <td>1.198089e+05</td>\n",
       "    </tr>\n",
       "    <tr>\n",
       "      <th>1</th>\n",
       "      <td>2017</td>\n",
       "      <td>2</td>\n",
       "      <td>1733</td>\n",
       "      <td>1952.0</td>\n",
       "      <td>427</td>\n",
       "      <td>2.476922e+05</td>\n",
       "    </tr>\n",
       "    <tr>\n",
       "      <th>2</th>\n",
       "      <td>2017</td>\n",
       "      <td>3</td>\n",
       "      <td>2637</td>\n",
       "      <td>2996.0</td>\n",
       "      <td>499</td>\n",
       "      <td>3.736766e+05</td>\n",
       "    </tr>\n",
       "    <tr>\n",
       "      <th>3</th>\n",
       "      <td>2017</td>\n",
       "      <td>4</td>\n",
       "      <td>2389</td>\n",
       "      <td>2682.0</td>\n",
       "      <td>506</td>\n",
       "      <td>3.599871e+05</td>\n",
       "    </tr>\n",
       "    <tr>\n",
       "      <th>4</th>\n",
       "      <td>2017</td>\n",
       "      <td>5</td>\n",
       "      <td>3655</td>\n",
       "      <td>4128.0</td>\n",
       "      <td>583</td>\n",
       "      <td>5.047740e+05</td>\n",
       "    </tr>\n",
       "    <tr>\n",
       "      <th>5</th>\n",
       "      <td>2017</td>\n",
       "      <td>6</td>\n",
       "      <td>3228</td>\n",
       "      <td>3597.0</td>\n",
       "      <td>541</td>\n",
       "      <td>4.348993e+05</td>\n",
       "    </tr>\n",
       "    <tr>\n",
       "      <th>6</th>\n",
       "      <td>2017</td>\n",
       "      <td>7</td>\n",
       "      <td>3956</td>\n",
       "      <td>4501.0</td>\n",
       "      <td>604</td>\n",
       "      <td>4.968049e+05</td>\n",
       "    </tr>\n",
       "    <tr>\n",
       "      <th>7</th>\n",
       "      <td>2017</td>\n",
       "      <td>8</td>\n",
       "      <td>4300</td>\n",
       "      <td>4922.0</td>\n",
       "      <td>708</td>\n",
       "      <td>5.740459e+05</td>\n",
       "    </tr>\n",
       "    <tr>\n",
       "      <th>8</th>\n",
       "      <td>2017</td>\n",
       "      <td>9</td>\n",
       "      <td>4242</td>\n",
       "      <td>4827.0</td>\n",
       "      <td>730</td>\n",
       "      <td>6.248995e+05</td>\n",
       "    </tr>\n",
       "    <tr>\n",
       "      <th>9</th>\n",
       "      <td>2017</td>\n",
       "      <td>10</td>\n",
       "      <td>4573</td>\n",
       "      <td>5329.0</td>\n",
       "      <td>776</td>\n",
       "      <td>6.645821e+05</td>\n",
       "    </tr>\n",
       "    <tr>\n",
       "      <th>10</th>\n",
       "      <td>2017</td>\n",
       "      <td>11</td>\n",
       "      <td>7445</td>\n",
       "      <td>8659.0</td>\n",
       "      <td>965</td>\n",
       "      <td>1.009599e+06</td>\n",
       "    </tr>\n",
       "    <tr>\n",
       "      <th>11</th>\n",
       "      <td>2017</td>\n",
       "      <td>12</td>\n",
       "      <td>5632</td>\n",
       "      <td>6317.0</td>\n",
       "      <td>862</td>\n",
       "      <td>7.448996e+05</td>\n",
       "    </tr>\n",
       "    <tr>\n",
       "      <th>12</th>\n",
       "      <td>2018</td>\n",
       "      <td>1</td>\n",
       "      <td>7205</td>\n",
       "      <td>8190.0</td>\n",
       "      <td>969</td>\n",
       "      <td>9.482051e+05</td>\n",
       "    </tr>\n",
       "    <tr>\n",
       "      <th>13</th>\n",
       "      <td>2018</td>\n",
       "      <td>2</td>\n",
       "      <td>6701</td>\n",
       "      <td>7681.0</td>\n",
       "      <td>947</td>\n",
       "      <td>8.453426e+05</td>\n",
       "    </tr>\n",
       "    <tr>\n",
       "      <th>14</th>\n",
       "      <td>2018</td>\n",
       "      <td>3</td>\n",
       "      <td>7189</td>\n",
       "      <td>8219.0</td>\n",
       "      <td>995</td>\n",
       "      <td>9.833586e+05</td>\n",
       "    </tr>\n",
       "    <tr>\n",
       "      <th>15</th>\n",
       "      <td>2018</td>\n",
       "      <td>4</td>\n",
       "      <td>6925</td>\n",
       "      <td>7959.0</td>\n",
       "      <td>1122</td>\n",
       "      <td>9.955348e+05</td>\n",
       "    </tr>\n",
       "    <tr>\n",
       "      <th>16</th>\n",
       "      <td>2018</td>\n",
       "      <td>5</td>\n",
       "      <td>6852</td>\n",
       "      <td>7930.0</td>\n",
       "      <td>1116</td>\n",
       "      <td>9.912034e+05</td>\n",
       "    </tr>\n",
       "    <tr>\n",
       "      <th>17</th>\n",
       "      <td>2018</td>\n",
       "      <td>6</td>\n",
       "      <td>6169</td>\n",
       "      <td>7085.0</td>\n",
       "      <td>1175</td>\n",
       "      <td>8.703383e+05</td>\n",
       "    </tr>\n",
       "    <tr>\n",
       "      <th>18</th>\n",
       "      <td>2018</td>\n",
       "      <td>7</td>\n",
       "      <td>6246</td>\n",
       "      <td>7061.0</td>\n",
       "      <td>1259</td>\n",
       "      <td>8.918588e+05</td>\n",
       "    </tr>\n",
       "    <tr>\n",
       "      <th>19</th>\n",
       "      <td>2018</td>\n",
       "      <td>8</td>\n",
       "      <td>6489</td>\n",
       "      <td>7292.0</td>\n",
       "      <td>1280</td>\n",
       "      <td>8.602021e+05</td>\n",
       "    </tr>\n",
       "  </tbody>\n",
       "</table>\n",
       "</div>"
      ],
      "text/plain": [
       "    year  month  orders  items_sold  sellers       revenue\n",
       "0   2017      1     787       952.0      227  1.198089e+05\n",
       "1   2017      2    1733      1952.0      427  2.476922e+05\n",
       "2   2017      3    2637      2996.0      499  3.736766e+05\n",
       "3   2017      4    2389      2682.0      506  3.599871e+05\n",
       "4   2017      5    3655      4128.0      583  5.047740e+05\n",
       "5   2017      6    3228      3597.0      541  4.348993e+05\n",
       "6   2017      7    3956      4501.0      604  4.968049e+05\n",
       "7   2017      8    4300      4922.0      708  5.740459e+05\n",
       "8   2017      9    4242      4827.0      730  6.248995e+05\n",
       "9   2017     10    4573      5329.0      776  6.645821e+05\n",
       "10  2017     11    7445      8659.0      965  1.009599e+06\n",
       "11  2017     12    5632      6317.0      862  7.448996e+05\n",
       "12  2018      1    7205      8190.0      969  9.482051e+05\n",
       "13  2018      2    6701      7681.0      947  8.453426e+05\n",
       "14  2018      3    7189      8219.0      995  9.833586e+05\n",
       "15  2018      4    6925      7959.0     1122  9.955348e+05\n",
       "16  2018      5    6852      7930.0     1116  9.912034e+05\n",
       "17  2018      6    6169      7085.0     1175  8.703383e+05\n",
       "18  2018      7    6246      7061.0     1259  8.918588e+05\n",
       "19  2018      8    6489      7292.0     1280  8.602021e+05"
      ]
     },
     "execution_count": 29,
     "metadata": {},
     "output_type": "execute_result"
    }
   ],
   "source": [
    "month_perf"
   ]
  },
  {
   "cell_type": "code",
   "execution_count": 30,
   "metadata": {},
   "outputs": [
    {
     "data": {
      "image/png": "[encoded data removed]",
      "text/plain": [
       "<Figure size 1152x648 with 4 Axes>"
      ]
     },
     "metadata": {
      "needs_background": "light"
     },
     "output_type": "display_data"
    }
   ],
   "source": [
    "fig, axes = plt.subplots(nrows=2,\n",
    "                         ncols=2,\n",
    "                        figsize=(16,9))\n",
    "axes[0,0].set_title(\"axes[0,0]\");\n",
    "axes[1,0].set_title(\"axes[1,0]\");\n",
    "axes[0,1].set_title(\"axes[0,1]\");\n",
    "axes[1,1].set_title(\"axes[1,1]\");"
   ]
  },
  {
   "cell_type": "code",
   "execution_count": 31,
   "metadata": {},
   "outputs": [
    {
     "data": {
      "image/png": "[encoded data removed]",
      "text/plain": [
       "<Figure size 1152x648 with 4 Axes>"
      ]
     },
     "metadata": {
      "needs_background": "light"
     },
     "output_type": "display_data"
    }
   ],
   "source": [
    "fig, axes = plt.subplots(nrows=2,\n",
    "                         ncols=2,\n",
    "                        figsize=(16,9))\n",
    "for i in range(2):\n",
    "    for j in range(2):\n",
    "        axes[i,j].set_title(f\"axes[{i}, {j}]\")"
   ]
  },
  {
   "cell_type": "code",
   "execution_count": 32,
   "metadata": {},
   "outputs": [
    {
     "data": {
      "image/png": "[encoded data removed]",
      "text/plain": [
       "<Figure size 1152x648 with 4 Axes>"
      ]
     },
     "metadata": {
      "needs_background": "light"
     },
     "output_type": "display_data"
    }
   ],
   "source": [
    "fig, axes = plt.subplots(nrows=2,\n",
    "                         ncols=2,\n",
    "                        figsize=(16,9))\n",
    "metrics = [\"orders\", \"items_sold\", \"sellers\", \"revenue\"]\n",
    "i = 0\n",
    "for ax in axes.flatten():\n",
    "    sns.lineplot(data=month_perf,\n",
    "             x=\"month\",\n",
    "             y=metrics[i],\n",
    "             hue=\"year\",\n",
    "             palette=[\"blue\", \"orange\"],\n",
    "            ax=ax);\n",
    "    ax.set_title(metrics[i])\n",
    "    i+=1"
   ]
  },
  {
   "cell_type": "markdown",
   "metadata": {},
   "source": [
    "- Everything is relatively proportional in 2017\n",
    "- In 2018 - are have more sellers, but they seem to be selling less\n",
    "- items sold per order seems to be pretty consistant"
   ]
  },
  {
   "cell_type": "markdown",
   "metadata": {},
   "source": [
    "In order to take a closer look and confirm what we are seeing, we will now plot:\n",
    "- items sold per order\n",
    "- items sold per seller\n",
    "- revenue per item sold"
   ]
  },
  {
   "cell_type": "code",
   "execution_count": 33,
   "metadata": {},
   "outputs": [],
   "source": [
    "month_perf = (month_perf\n",
    " .assign(items_per_order=month_perf[\"items_sold\"] / month_perf[\"orders\"])\n",
    " .assign(items_per_seller=month_perf[\"items_sold\"]/month_perf[\"sellers\"])\n",
    " .assign(revenue_per_item=month_perf[\"revenue\"] / month_perf[\"items_sold\"]))"
   ]
  },
  {
   "cell_type": "code",
   "execution_count": 34,
   "metadata": {},
   "outputs": [
    {
     "data": {
      "image/png": "[encoded data removed]",
      "text/plain": [
       "<Figure size 720x1080 with 3 Axes>"
      ]
     },
     "metadata": {
      "needs_background": "light"
     },
     "output_type": "display_data"
    }
   ],
   "source": [
    "fig, axes = plt.subplots(nrows=3,\n",
    "                         ncols=1,\n",
    "                         figsize=(10,15))\n",
    "ratios = [\"items_per_order\", \"items_per_seller\", \"revenue_per_item\"]\n",
    "i = 0\n",
    "for ax in axes:\n",
    "    sns.lineplot(data=month_perf,\n",
    "        x=\"month\",\n",
    "        y=ratios[i],\n",
    "        hue=\"year\",\n",
    "        palette=[\"blue\", \"orange\"],\n",
    "        ax=ax);\n",
    "    ax.set_title(ratios[i])\n",
    "    i+=1"
   ]
  },
  {
   "cell_type": "markdown",
   "metadata": {},
   "source": [
    "From these graphs, we can see that the average number of tiems per order has been prety constant. Hwoever, looking at the sellers, it suggests that there are actually more unique sellers selling less items (on average). We can also see that monthly revenue has been mostly constant. Therefore, the revenue we generate for each order or item increase over time. The most concerning development is the number of order or items sold. \n",
    "\n",
    "To look at this further, we will dig into where are our orders going."
   ]
  },
  {
   "cell_type": "markdown",
   "metadata": {},
   "source": [
    "# Take a closer look at orders\n",
    "\n",
    "## Split order by customer state\n",
    "\n",
    "- after 2017-01-01 and before 2018-09-01\n",
    "\n",
    "| month_id | customer_state | number of order |\n",
    "|----------|----------------|-----------------|\n",
    "|2017-01-01| SP             | 398             |\n",
    "|2017-01-01| BA             | 98              |"
   ]
  },
  {
   "cell_type": "code",
   "execution_count": 35,
   "metadata": {},
   "outputs": [],
   "source": [
    "order_by_state_query = \"\"\"\n",
    "SELECT \n",
    "\tDATE_FORMAT(o.order_purchase_timestamp, '%Y-%m-01') AS month_id,\n",
    "\tc.customer_state,\n",
    "\tCOUNT(*)\t\t\t\t\t\t\t\t\t\t\tAS orders\n",
    "FROM olist.orders o\n",
    "\tINNER JOIN olist.customers c \n",
    "\tON o.customer_id = c.customer_id \n",
    "WHERE o.order_purchase_timestamp BETWEEN CAST('2017-01-01' AS DATE) \n",
    "\tAND CAST('2018-09-01' AS DATE)\n",
    "GROUP BY c.customer_state,\n",
    "\t\t month_id\n",
    "ORDER BY \n",
    "\tmonth_id, \n",
    "\tcustomer_state\n",
    "\"\"\"\n",
    "order_by_state = pd.read_sql(order_by_state_query, conn)"
   ]
  },
  {
   "cell_type": "code",
   "execution_count": 36,
   "metadata": {},
   "outputs": [
    {
     "data": {
      "text/html": [
       "<div>\n",
       "<style scoped>\n",
       "    .dataframe tbody tr th:only-of-type {\n",
       "        vertical-align: middle;\n",
       "    }\n",
       "\n",
       "    .dataframe tbody tr th {\n",
       "        vertical-align: top;\n",
       "    }\n",
       "\n",
       "    .dataframe thead th {\n",
       "        text-align: right;\n",
       "    }\n",
       "</style>\n",
       "<table border=\"1\" class=\"dataframe\">\n",
       "  <thead>\n",
       "    <tr style=\"text-align: right;\">\n",
       "      <th></th>\n",
       "      <th>month_id</th>\n",
       "      <th>customer_state</th>\n",
       "      <th>orders</th>\n",
       "    </tr>\n",
       "  </thead>\n",
       "  <tbody>\n",
       "    <tr>\n",
       "      <th>0</th>\n",
       "      <td>2017-01-01</td>\n",
       "      <td>AC</td>\n",
       "      <td>2</td>\n",
       "    </tr>\n",
       "    <tr>\n",
       "      <th>1</th>\n",
       "      <td>2017-01-01</td>\n",
       "      <td>AL</td>\n",
       "      <td>1</td>\n",
       "    </tr>\n",
       "    <tr>\n",
       "      <th>2</th>\n",
       "      <td>2017-01-01</td>\n",
       "      <td>BA</td>\n",
       "      <td>25</td>\n",
       "    </tr>\n",
       "    <tr>\n",
       "      <th>3</th>\n",
       "      <td>2017-01-01</td>\n",
       "      <td>CE</td>\n",
       "      <td>9</td>\n",
       "    </tr>\n",
       "    <tr>\n",
       "      <th>4</th>\n",
       "      <td>2017-01-01</td>\n",
       "      <td>DF</td>\n",
       "      <td>13</td>\n",
       "    </tr>\n",
       "  </tbody>\n",
       "</table>\n",
       "</div>"
      ],
      "text/plain": [
       "     month_id customer_state  orders\n",
       "0  2017-01-01             AC       2\n",
       "1  2017-01-01             AL       1\n",
       "2  2017-01-01             BA      25\n",
       "3  2017-01-01             CE       9\n",
       "4  2017-01-01             DF      13"
      ]
     },
     "execution_count": 36,
     "metadata": {},
     "output_type": "execute_result"
    }
   ],
   "source": [
    "order_by_state.head()"
   ]
  },
  {
   "cell_type": "code",
   "execution_count": 37,
   "metadata": {},
   "outputs": [],
   "source": [
    "order_by_state[\"month_id\"] = pd.to_datetime(order_by_state[\"month_id\"])"
   ]
  },
  {
   "cell_type": "code",
   "execution_count": 38,
   "metadata": {},
   "outputs": [
    {
     "data": {
      "image/png": "[encoded data removed]",
      "text/plain": [
       "<Figure size 720x576 with 1 Axes>"
      ]
     },
     "metadata": {
      "needs_background": "light"
     },
     "output_type": "display_data"
    }
   ],
   "source": [
    "fig, ax = plt.subplots(figsize=(10,8))\n",
    "\n",
    "sns.lineplot(data=order_by_state,\n",
    "            x=\"month_id\",\n",
    "            y=\"orders\",\n",
    "            hue=\"customer_state\");"
   ]
  },
  {
   "cell_type": "markdown",
   "metadata": {},
   "source": [
    "### Continuing after Lecture\n",
    "- We now want to remove the detail from the smaller states\n",
    "- the goal will be to have informationa about our top 5 states (as of 2018-08-01) and have the rest put into one group called other"
   ]
  },
  {
   "cell_type": "code",
   "execution_count": 39,
   "metadata": {},
   "outputs": [],
   "source": [
    "top_5_states = list(\n",
    "                #want to have our final output as a list\n",
    "                order_by_state.loc[order_by_state[\"month_id\"] == \"2018-08-01\"]\n",
    "                #only getting the values for the date we want\n",
    "                .sort_values(\"orders\", ascending=False)\n",
    "                #order the values\n",
    "                [\"customer_state\"] #select only the customer states\n",
    "                [:5] #select the top 5\n",
    "                .values #get the actual states\n",
    ")"
   ]
  },
  {
   "cell_type": "code",
   "execution_count": 40,
   "metadata": {},
   "outputs": [
    {
     "data": {
      "text/plain": [
       "['SP', 'RJ', 'MG', 'PR', 'RS']"
      ]
     },
     "execution_count": 40,
     "metadata": {},
     "output_type": "execute_result"
    }
   ],
   "source": [
    "top_5_states"
   ]
  },
  {
   "cell_type": "code",
   "execution_count": 41,
   "metadata": {},
   "outputs": [
    {
     "data": {
      "text/html": [
       "<div>\n",
       "<style scoped>\n",
       "    .dataframe tbody tr th:only-of-type {\n",
       "        vertical-align: middle;\n",
       "    }\n",
       "\n",
       "    .dataframe tbody tr th {\n",
       "        vertical-align: top;\n",
       "    }\n",
       "\n",
       "    .dataframe thead th {\n",
       "        text-align: right;\n",
       "    }\n",
       "</style>\n",
       "<table border=\"1\" class=\"dataframe\">\n",
       "  <thead>\n",
       "    <tr style=\"text-align: right;\">\n",
       "      <th></th>\n",
       "      <th>month_id</th>\n",
       "      <th>customer_state</th>\n",
       "      <th>orders</th>\n",
       "      <th>grouped_customer_state</th>\n",
       "    </tr>\n",
       "  </thead>\n",
       "  <tbody>\n",
       "    <tr>\n",
       "      <th>0</th>\n",
       "      <td>2017-01-01</td>\n",
       "      <td>AC</td>\n",
       "      <td>2</td>\n",
       "      <td>NaN</td>\n",
       "    </tr>\n",
       "    <tr>\n",
       "      <th>1</th>\n",
       "      <td>2017-01-01</td>\n",
       "      <td>AL</td>\n",
       "      <td>1</td>\n",
       "      <td>NaN</td>\n",
       "    </tr>\n",
       "    <tr>\n",
       "      <th>2</th>\n",
       "      <td>2017-01-01</td>\n",
       "      <td>BA</td>\n",
       "      <td>25</td>\n",
       "      <td>NaN</td>\n",
       "    </tr>\n",
       "    <tr>\n",
       "      <th>3</th>\n",
       "      <td>2017-01-01</td>\n",
       "      <td>CE</td>\n",
       "      <td>9</td>\n",
       "      <td>NaN</td>\n",
       "    </tr>\n",
       "    <tr>\n",
       "      <th>4</th>\n",
       "      <td>2017-01-01</td>\n",
       "      <td>DF</td>\n",
       "      <td>13</td>\n",
       "      <td>NaN</td>\n",
       "    </tr>\n",
       "    <tr>\n",
       "      <th>...</th>\n",
       "      <td>...</td>\n",
       "      <td>...</td>\n",
       "      <td>...</td>\n",
       "      <td>...</td>\n",
       "    </tr>\n",
       "    <tr>\n",
       "      <th>528</th>\n",
       "      <td>2018-08-01</td>\n",
       "      <td>RS</td>\n",
       "      <td>301</td>\n",
       "      <td>NaN</td>\n",
       "    </tr>\n",
       "    <tr>\n",
       "      <th>529</th>\n",
       "      <td>2018-08-01</td>\n",
       "      <td>SC</td>\n",
       "      <td>206</td>\n",
       "      <td>NaN</td>\n",
       "    </tr>\n",
       "    <tr>\n",
       "      <th>530</th>\n",
       "      <td>2018-08-01</td>\n",
       "      <td>SE</td>\n",
       "      <td>23</td>\n",
       "      <td>NaN</td>\n",
       "    </tr>\n",
       "    <tr>\n",
       "      <th>531</th>\n",
       "      <td>2018-08-01</td>\n",
       "      <td>SP</td>\n",
       "      <td>3275</td>\n",
       "      <td>NaN</td>\n",
       "    </tr>\n",
       "    <tr>\n",
       "      <th>532</th>\n",
       "      <td>2018-08-01</td>\n",
       "      <td>TO</td>\n",
       "      <td>14</td>\n",
       "      <td>NaN</td>\n",
       "    </tr>\n",
       "  </tbody>\n",
       "</table>\n",
       "<p>533 rows × 4 columns</p>\n",
       "</div>"
      ],
      "text/plain": [
       "      month_id customer_state  orders  grouped_customer_state\n",
       "0   2017-01-01             AC       2                     NaN\n",
       "1   2017-01-01             AL       1                     NaN\n",
       "2   2017-01-01             BA      25                     NaN\n",
       "3   2017-01-01             CE       9                     NaN\n",
       "4   2017-01-01             DF      13                     NaN\n",
       "..         ...            ...     ...                     ...\n",
       "528 2018-08-01             RS     301                     NaN\n",
       "529 2018-08-01             SC     206                     NaN\n",
       "530 2018-08-01             SE      23                     NaN\n",
       "531 2018-08-01             SP    3275                     NaN\n",
       "532 2018-08-01             TO      14                     NaN\n",
       "\n",
       "[533 rows x 4 columns]"
      ]
     },
     "execution_count": 41,
     "metadata": {},
     "output_type": "execute_result"
    }
   ],
   "source": [
    "#look at how we could create an empty column that we want to fill with the state\n",
    "#or other\n",
    "order_by_state.assign(grouped_customer_state=np.nan)"
   ]
  },
  {
   "cell_type": "code",
   "execution_count": 42,
   "metadata": {},
   "outputs": [
    {
     "data": {
      "text/html": [
       "<div>\n",
       "<style scoped>\n",
       "    .dataframe tbody tr th:only-of-type {\n",
       "        vertical-align: middle;\n",
       "    }\n",
       "\n",
       "    .dataframe tbody tr th {\n",
       "        vertical-align: top;\n",
       "    }\n",
       "\n",
       "    .dataframe thead th {\n",
       "        text-align: right;\n",
       "    }\n",
       "</style>\n",
       "<table border=\"1\" class=\"dataframe\">\n",
       "  <thead>\n",
       "    <tr style=\"text-align: right;\">\n",
       "      <th></th>\n",
       "      <th>month_id</th>\n",
       "      <th>customer_state</th>\n",
       "      <th>orders</th>\n",
       "      <th>grouped_customer_state</th>\n",
       "    </tr>\n",
       "  </thead>\n",
       "  <tbody>\n",
       "    <tr>\n",
       "      <th>0</th>\n",
       "      <td>2017-01-01</td>\n",
       "      <td>AC</td>\n",
       "      <td>2</td>\n",
       "      <td>Other</td>\n",
       "    </tr>\n",
       "    <tr>\n",
       "      <th>1</th>\n",
       "      <td>2017-01-01</td>\n",
       "      <td>AL</td>\n",
       "      <td>1</td>\n",
       "      <td>Other</td>\n",
       "    </tr>\n",
       "    <tr>\n",
       "      <th>2</th>\n",
       "      <td>2017-01-01</td>\n",
       "      <td>BA</td>\n",
       "      <td>25</td>\n",
       "      <td>Other</td>\n",
       "    </tr>\n",
       "    <tr>\n",
       "      <th>3</th>\n",
       "      <td>2017-01-01</td>\n",
       "      <td>CE</td>\n",
       "      <td>9</td>\n",
       "      <td>Other</td>\n",
       "    </tr>\n",
       "    <tr>\n",
       "      <th>4</th>\n",
       "      <td>2017-01-01</td>\n",
       "      <td>DF</td>\n",
       "      <td>13</td>\n",
       "      <td>Other</td>\n",
       "    </tr>\n",
       "    <tr>\n",
       "      <th>5</th>\n",
       "      <td>2017-01-01</td>\n",
       "      <td>ES</td>\n",
       "      <td>12</td>\n",
       "      <td>Other</td>\n",
       "    </tr>\n",
       "    <tr>\n",
       "      <th>6</th>\n",
       "      <td>2017-01-01</td>\n",
       "      <td>GO</td>\n",
       "      <td>18</td>\n",
       "      <td>Other</td>\n",
       "    </tr>\n",
       "    <tr>\n",
       "      <th>7</th>\n",
       "      <td>2017-01-01</td>\n",
       "      <td>MA</td>\n",
       "      <td>9</td>\n",
       "      <td>Other</td>\n",
       "    </tr>\n",
       "    <tr>\n",
       "      <th>8</th>\n",
       "      <td>2017-01-01</td>\n",
       "      <td>MG</td>\n",
       "      <td>107</td>\n",
       "      <td>MG</td>\n",
       "    </tr>\n",
       "    <tr>\n",
       "      <th>9</th>\n",
       "      <td>2017-01-01</td>\n",
       "      <td>MS</td>\n",
       "      <td>1</td>\n",
       "      <td>Other</td>\n",
       "    </tr>\n",
       "    <tr>\n",
       "      <th>10</th>\n",
       "      <td>2017-01-01</td>\n",
       "      <td>MT</td>\n",
       "      <td>11</td>\n",
       "      <td>Other</td>\n",
       "    </tr>\n",
       "    <tr>\n",
       "      <th>11</th>\n",
       "      <td>2017-01-01</td>\n",
       "      <td>PA</td>\n",
       "      <td>12</td>\n",
       "      <td>Other</td>\n",
       "    </tr>\n",
       "    <tr>\n",
       "      <th>12</th>\n",
       "      <td>2017-01-01</td>\n",
       "      <td>PB</td>\n",
       "      <td>2</td>\n",
       "      <td>Other</td>\n",
       "    </tr>\n",
       "    <tr>\n",
       "      <th>13</th>\n",
       "      <td>2017-01-01</td>\n",
       "      <td>PE</td>\n",
       "      <td>9</td>\n",
       "      <td>Other</td>\n",
       "    </tr>\n",
       "    <tr>\n",
       "      <th>14</th>\n",
       "      <td>2017-01-01</td>\n",
       "      <td>PI</td>\n",
       "      <td>7</td>\n",
       "      <td>Other</td>\n",
       "    </tr>\n",
       "    <tr>\n",
       "      <th>15</th>\n",
       "      <td>2017-01-01</td>\n",
       "      <td>PR</td>\n",
       "      <td>65</td>\n",
       "      <td>PR</td>\n",
       "    </tr>\n",
       "    <tr>\n",
       "      <th>16</th>\n",
       "      <td>2017-01-01</td>\n",
       "      <td>RJ</td>\n",
       "      <td>97</td>\n",
       "      <td>RJ</td>\n",
       "    </tr>\n",
       "    <tr>\n",
       "      <th>17</th>\n",
       "      <td>2017-01-01</td>\n",
       "      <td>RN</td>\n",
       "      <td>5</td>\n",
       "      <td>Other</td>\n",
       "    </tr>\n",
       "    <tr>\n",
       "      <th>18</th>\n",
       "      <td>2017-01-01</td>\n",
       "      <td>RO</td>\n",
       "      <td>3</td>\n",
       "      <td>Other</td>\n",
       "    </tr>\n",
       "    <tr>\n",
       "      <th>19</th>\n",
       "      <td>2017-01-01</td>\n",
       "      <td>RS</td>\n",
       "      <td>54</td>\n",
       "      <td>RS</td>\n",
       "    </tr>\n",
       "    <tr>\n",
       "      <th>20</th>\n",
       "      <td>2017-01-01</td>\n",
       "      <td>SC</td>\n",
       "      <td>31</td>\n",
       "      <td>Other</td>\n",
       "    </tr>\n",
       "    <tr>\n",
       "      <th>21</th>\n",
       "      <td>2017-01-01</td>\n",
       "      <td>SE</td>\n",
       "      <td>4</td>\n",
       "      <td>Other</td>\n",
       "    </tr>\n",
       "    <tr>\n",
       "      <th>22</th>\n",
       "      <td>2017-01-01</td>\n",
       "      <td>SP</td>\n",
       "      <td>299</td>\n",
       "      <td>SP</td>\n",
       "    </tr>\n",
       "    <tr>\n",
       "      <th>23</th>\n",
       "      <td>2017-01-01</td>\n",
       "      <td>TO</td>\n",
       "      <td>2</td>\n",
       "      <td>Other</td>\n",
       "    </tr>\n",
       "    <tr>\n",
       "      <th>24</th>\n",
       "      <td>2017-02-01</td>\n",
       "      <td>AC</td>\n",
       "      <td>3</td>\n",
       "      <td>Other</td>\n",
       "    </tr>\n",
       "    <tr>\n",
       "      <th>25</th>\n",
       "      <td>2017-02-01</td>\n",
       "      <td>AL</td>\n",
       "      <td>13</td>\n",
       "      <td>Other</td>\n",
       "    </tr>\n",
       "  </tbody>\n",
       "</table>\n",
       "</div>"
      ],
      "text/plain": [
       "     month_id customer_state  orders grouped_customer_state\n",
       "0  2017-01-01             AC       2                  Other\n",
       "1  2017-01-01             AL       1                  Other\n",
       "2  2017-01-01             BA      25                  Other\n",
       "3  2017-01-01             CE       9                  Other\n",
       "4  2017-01-01             DF      13                  Other\n",
       "5  2017-01-01             ES      12                  Other\n",
       "6  2017-01-01             GO      18                  Other\n",
       "7  2017-01-01             MA       9                  Other\n",
       "8  2017-01-01             MG     107                     MG\n",
       "9  2017-01-01             MS       1                  Other\n",
       "10 2017-01-01             MT      11                  Other\n",
       "11 2017-01-01             PA      12                  Other\n",
       "12 2017-01-01             PB       2                  Other\n",
       "13 2017-01-01             PE       9                  Other\n",
       "14 2017-01-01             PI       7                  Other\n",
       "15 2017-01-01             PR      65                     PR\n",
       "16 2017-01-01             RJ      97                     RJ\n",
       "17 2017-01-01             RN       5                  Other\n",
       "18 2017-01-01             RO       3                  Other\n",
       "19 2017-01-01             RS      54                     RS\n",
       "20 2017-01-01             SC      31                  Other\n",
       "21 2017-01-01             SE       4                  Other\n",
       "22 2017-01-01             SP     299                     SP\n",
       "23 2017-01-01             TO       2                  Other\n",
       "24 2017-02-01             AC       3                  Other\n",
       "25 2017-02-01             AL      13                  Other"
      ]
     },
     "execution_count": 42,
     "metadata": {},
     "output_type": "execute_result"
    }
   ],
   "source": [
    "#next step would be to immediately add values to this column instead of nans\n",
    "order_by_state.assign(grouped_customer_state=np.where(order_by_state[\"customer_state\"]\n",
    "                                                      .isin(top_5_states),\n",
    "                                                     order_by_state[\"customer_state\"],\n",
    "                                                     \"Other\")).head(26)\n",
    "\n",
    "#np.where(some condition that needs to be met, what to put if that condition is met, \n",
    "#what to use otherwise)\n",
    "#another way to think about it is - if \"condition met\", then \"use this\", else \"use this\""
   ]
  },
  {
   "cell_type": "code",
   "execution_count": 43,
   "metadata": {},
   "outputs": [],
   "source": [
    "#now that we have validated this, we can save it as a column\n",
    "order_by_state = order_by_state.assign(grouped_customer_state=np.where(order_by_state[\"customer_state\"]\n",
    "                                                      .isin(top_5_states),\n",
    "                                                     order_by_state[\"customer_state\"],\n",
    "                                                     \"Other\"))"
   ]
  },
  {
   "cell_type": "code",
   "execution_count": 44,
   "metadata": {},
   "outputs": [],
   "source": [
    "#we can then create our groups and aggregate, using a new dataframe so it \n",
    "#doesn't group our order_by_state df\n",
    "order_by_gr_state = (order_by_state.groupby([\"month_id\", \"grouped_customer_state\"])\n",
    "                                   .agg({\"orders\":\"sum\"})\n",
    "                                   .reset_index())"
   ]
  },
  {
   "cell_type": "code",
   "execution_count": 45,
   "metadata": {},
   "outputs": [
    {
     "data": {
      "text/html": [
       "<div>\n",
       "<style scoped>\n",
       "    .dataframe tbody tr th:only-of-type {\n",
       "        vertical-align: middle;\n",
       "    }\n",
       "\n",
       "    .dataframe tbody tr th {\n",
       "        vertical-align: top;\n",
       "    }\n",
       "\n",
       "    .dataframe thead th {\n",
       "        text-align: right;\n",
       "    }\n",
       "</style>\n",
       "<table border=\"1\" class=\"dataframe\">\n",
       "  <thead>\n",
       "    <tr style=\"text-align: right;\">\n",
       "      <th></th>\n",
       "      <th>month_id</th>\n",
       "      <th>grouped_customer_state</th>\n",
       "      <th>orders</th>\n",
       "    </tr>\n",
       "  </thead>\n",
       "  <tbody>\n",
       "    <tr>\n",
       "      <th>0</th>\n",
       "      <td>2017-01-01</td>\n",
       "      <td>MG</td>\n",
       "      <td>107</td>\n",
       "    </tr>\n",
       "    <tr>\n",
       "      <th>1</th>\n",
       "      <td>2017-01-01</td>\n",
       "      <td>Other</td>\n",
       "      <td>176</td>\n",
       "    </tr>\n",
       "    <tr>\n",
       "      <th>2</th>\n",
       "      <td>2017-01-01</td>\n",
       "      <td>PR</td>\n",
       "      <td>65</td>\n",
       "    </tr>\n",
       "    <tr>\n",
       "      <th>3</th>\n",
       "      <td>2017-01-01</td>\n",
       "      <td>RJ</td>\n",
       "      <td>97</td>\n",
       "    </tr>\n",
       "    <tr>\n",
       "      <th>4</th>\n",
       "      <td>2017-01-01</td>\n",
       "      <td>RS</td>\n",
       "      <td>54</td>\n",
       "    </tr>\n",
       "    <tr>\n",
       "      <th>5</th>\n",
       "      <td>2017-01-01</td>\n",
       "      <td>SP</td>\n",
       "      <td>299</td>\n",
       "    </tr>\n",
       "    <tr>\n",
       "      <th>6</th>\n",
       "      <td>2017-02-01</td>\n",
       "      <td>MG</td>\n",
       "      <td>260</td>\n",
       "    </tr>\n",
       "    <tr>\n",
       "      <th>7</th>\n",
       "      <td>2017-02-01</td>\n",
       "      <td>Other</td>\n",
       "      <td>390</td>\n",
       "    </tr>\n",
       "    <tr>\n",
       "      <th>8</th>\n",
       "      <td>2017-02-01</td>\n",
       "      <td>PR</td>\n",
       "      <td>118</td>\n",
       "    </tr>\n",
       "    <tr>\n",
       "      <th>9</th>\n",
       "      <td>2017-02-01</td>\n",
       "      <td>RJ</td>\n",
       "      <td>254</td>\n",
       "    </tr>\n",
       "  </tbody>\n",
       "</table>\n",
       "</div>"
      ],
      "text/plain": [
       "    month_id grouped_customer_state  orders\n",
       "0 2017-01-01                     MG     107\n",
       "1 2017-01-01                  Other     176\n",
       "2 2017-01-01                     PR      65\n",
       "3 2017-01-01                     RJ      97\n",
       "4 2017-01-01                     RS      54\n",
       "5 2017-01-01                     SP     299\n",
       "6 2017-02-01                     MG     260\n",
       "7 2017-02-01                  Other     390\n",
       "8 2017-02-01                     PR     118\n",
       "9 2017-02-01                     RJ     254"
      ]
     },
     "execution_count": 45,
     "metadata": {},
     "output_type": "execute_result"
    }
   ],
   "source": [
    "order_by_gr_state.head(10)"
   ]
  },
  {
   "cell_type": "code",
   "execution_count": 48,
   "metadata": {},
   "outputs": [
    {
     "data": {
      "image/png": "[encoded data removed]",
      "text/plain": [
       "<Figure size 720x576 with 1 Axes>"
      ]
     },
     "metadata": {
      "needs_background": "light"
     },
     "output_type": "display_data"
    }
   ],
   "source": [
    "fig, ax = plt.subplots(figsize=(10,8))\n",
    "\n",
    "sns.lineplot(data=order_by_gr_state,\n",
    "             x=\"month_id\",\n",
    "             y=\"orders\",\n",
    "             hue=\"grouped_customer_state\",\n",
    "             ax=ax).set_title(\"Monthly Orders by Customer State\");\n",
    "ax.axvline(pd.to_datetime(\"2018-01-01\"), color=\"r\");"
   ]
  },
  {
   "cell_type": "markdown",
   "metadata": {},
   "source": [
    "The graph suggests that orders placed by customers in Sao Paolo did not decrease as much as in other states. \n",
    "\n",
    "-> There may be a relationship between orders over time and the time it takes to deliever those orders, since we have our distribution center in Sao Paolo.\n",
    "\n",
    "We can test this hypothesis by looking at the average number of days it takes fro delievering the orders to the customers, grouped by states for 2018."
   ]
  },
  {
   "cell_type": "code",
   "execution_count": 49,
   "metadata": {},
   "outputs": [],
   "source": [
    "avg_dd_per_state_query = \"\"\"\n",
    "SELECT \n",
    "    c.customer_state,\n",
    "    AVG(DATEDIFF(o.order_delivered_customer_date, o.order_purchase_timestamp)) AS avg_delievery_days\n",
    "FROM olist.orders o\n",
    "    JOIN olist.customers c\n",
    "    ON o.customer_id = c.customer_id\n",
    "WHERE order_status = 'delivered'\n",
    "    AND order_purchase_timestamp > '2018-01-01'\n",
    "GROUP BY c.customer_state;\n",
    "\n",
    "\"\"\"\n",
    "\n",
    "avg_gg_per_state = pd.read_sql(avg_dd_per_state_query, conn)"
   ]
  },
  {
   "cell_type": "code",
   "execution_count": 50,
   "metadata": {},
   "outputs": [
    {
     "data": {
      "text/html": [
       "<div>\n",
       "<style scoped>\n",
       "    .dataframe tbody tr th:only-of-type {\n",
       "        vertical-align: middle;\n",
       "    }\n",
       "\n",
       "    .dataframe tbody tr th {\n",
       "        vertical-align: top;\n",
       "    }\n",
       "\n",
       "    .dataframe thead th {\n",
       "        text-align: right;\n",
       "    }\n",
       "</style>\n",
       "<table border=\"1\" class=\"dataframe\">\n",
       "  <thead>\n",
       "    <tr style=\"text-align: right;\">\n",
       "      <th></th>\n",
       "      <th>customer_state</th>\n",
       "      <th>avg_delievery_days</th>\n",
       "    </tr>\n",
       "  </thead>\n",
       "  <tbody>\n",
       "    <tr>\n",
       "      <th>0</th>\n",
       "      <td>SP</td>\n",
       "      <td>8.2469</td>\n",
       "    </tr>\n",
       "    <tr>\n",
       "      <th>10</th>\n",
       "      <td>PR</td>\n",
       "      <td>11.5688</td>\n",
       "    </tr>\n",
       "    <tr>\n",
       "      <th>3</th>\n",
       "      <td>MG</td>\n",
       "      <td>11.8311</td>\n",
       "    </tr>\n",
       "    <tr>\n",
       "      <th>9</th>\n",
       "      <td>DF</td>\n",
       "      <td>12.4132</td>\n",
       "    </tr>\n",
       "    <tr>\n",
       "      <th>8</th>\n",
       "      <td>SC</td>\n",
       "      <td>14.5398</td>\n",
       "    </tr>\n",
       "    <tr>\n",
       "      <th>4</th>\n",
       "      <td>GO</td>\n",
       "      <td>15.1423</td>\n",
       "    </tr>\n",
       "    <tr>\n",
       "      <th>1</th>\n",
       "      <td>RS</td>\n",
       "      <td>15.2724</td>\n",
       "    </tr>\n",
       "    <tr>\n",
       "      <th>5</th>\n",
       "      <td>RJ</td>\n",
       "      <td>15.7214</td>\n",
       "    </tr>\n",
       "    <tr>\n",
       "      <th>14</th>\n",
       "      <td>MS</td>\n",
       "      <td>16.2117</td>\n",
       "    </tr>\n",
       "    <tr>\n",
       "      <th>17</th>\n",
       "      <td>ES</td>\n",
       "      <td>16.2254</td>\n",
       "    </tr>\n",
       "    <tr>\n",
       "      <th>11</th>\n",
       "      <td>PE</td>\n",
       "      <td>17.4214</td>\n",
       "    </tr>\n",
       "    <tr>\n",
       "      <th>7</th>\n",
       "      <td>MT</td>\n",
       "      <td>17.7059</td>\n",
       "    </tr>\n",
       "    <tr>\n",
       "      <th>21</th>\n",
       "      <td>SE</td>\n",
       "      <td>18.0959</td>\n",
       "    </tr>\n",
       "    <tr>\n",
       "      <th>18</th>\n",
       "      <td>TO</td>\n",
       "      <td>18.2153</td>\n",
       "    </tr>\n",
       "    <tr>\n",
       "      <th>15</th>\n",
       "      <td>RN</td>\n",
       "      <td>18.2448</td>\n",
       "    </tr>\n",
       "    <tr>\n",
       "      <th>12</th>\n",
       "      <td>PB</td>\n",
       "      <td>18.8922</td>\n",
       "    </tr>\n",
       "    <tr>\n",
       "      <th>2</th>\n",
       "      <td>BA</td>\n",
       "      <td>19.1118</td>\n",
       "    </tr>\n",
       "    <tr>\n",
       "      <th>6</th>\n",
       "      <td>PI</td>\n",
       "      <td>19.2597</td>\n",
       "    </tr>\n",
       "    <tr>\n",
       "      <th>22</th>\n",
       "      <td>RO</td>\n",
       "      <td>20.1560</td>\n",
       "    </tr>\n",
       "    <tr>\n",
       "      <th>26</th>\n",
       "      <td>AC</td>\n",
       "      <td>21.0741</td>\n",
       "    </tr>\n",
       "    <tr>\n",
       "      <th>13</th>\n",
       "      <td>MA</td>\n",
       "      <td>21.3642</td>\n",
       "    </tr>\n",
       "    <tr>\n",
       "      <th>16</th>\n",
       "      <td>CE</td>\n",
       "      <td>22.1090</td>\n",
       "    </tr>\n",
       "    <tr>\n",
       "      <th>23</th>\n",
       "      <td>AL</td>\n",
       "      <td>23.5859</td>\n",
       "    </tr>\n",
       "    <tr>\n",
       "      <th>19</th>\n",
       "      <td>PA</td>\n",
       "      <td>25.4658</td>\n",
       "    </tr>\n",
       "    <tr>\n",
       "      <th>25</th>\n",
       "      <td>AP</td>\n",
       "      <td>25.9231</td>\n",
       "    </tr>\n",
       "    <tr>\n",
       "      <th>24</th>\n",
       "      <td>AM</td>\n",
       "      <td>27.1528</td>\n",
       "    </tr>\n",
       "    <tr>\n",
       "      <th>20</th>\n",
       "      <td>RR</td>\n",
       "      <td>28.3182</td>\n",
       "    </tr>\n",
       "  </tbody>\n",
       "</table>\n",
       "</div>"
      ],
      "text/plain": [
       "   customer_state  avg_delievery_days\n",
       "0              SP              8.2469\n",
       "10             PR             11.5688\n",
       "3              MG             11.8311\n",
       "9              DF             12.4132\n",
       "8              SC             14.5398\n",
       "4              GO             15.1423\n",
       "1              RS             15.2724\n",
       "5              RJ             15.7214\n",
       "14             MS             16.2117\n",
       "17             ES             16.2254\n",
       "11             PE             17.4214\n",
       "7              MT             17.7059\n",
       "21             SE             18.0959\n",
       "18             TO             18.2153\n",
       "15             RN             18.2448\n",
       "12             PB             18.8922\n",
       "2              BA             19.1118\n",
       "6              PI             19.2597\n",
       "22             RO             20.1560\n",
       "26             AC             21.0741\n",
       "13             MA             21.3642\n",
       "16             CE             22.1090\n",
       "23             AL             23.5859\n",
       "19             PA             25.4658\n",
       "25             AP             25.9231\n",
       "24             AM             27.1528\n",
       "20             RR             28.3182"
      ]
     },
     "execution_count": 50,
     "metadata": {},
     "output_type": "execute_result"
    }
   ],
   "source": [
    "avg_gg_per_state.sort_values(\"avg_delievery_days\")"
   ]
  },
  {
   "cell_type": "markdown",
   "metadata": {},
   "source": [
    "Within the top 8 states based on the lowest delievery time, 5 of our top states based on orders are present. This is an indication that we might be right. We can further dig into this by plotting a scatterplot that may indicate a correlation between a states decline in orders and their average delievery time!\n",
    "\n",
    "- a good homework question if you want to look into it!"
   ]
  },
  {
   "cell_type": "code",
   "execution_count": null,
   "metadata": {},
   "outputs": [],
   "source": []
  }
 ],
 "metadata": {
  "kernelspec": {
   "display_name": "Python 3",
   "language": "python",
   "name": "python3"
  },
  "language_info": {
   "codemirror_mode": {
    "name": "ipython",
    "version": 3
   },
   "file_extension": ".py",
   "mimetype": "text/x-python",
   "name": "python",
   "nbconvert_exporter": "python",
   "pygments_lexer": "ipython3",
   "version": "3.8.5"
  }
 },
 "nbformat": 4,
 "nbformat_minor": 4
}
